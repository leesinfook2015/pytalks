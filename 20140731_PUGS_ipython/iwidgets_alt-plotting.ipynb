{
 "metadata": {
  "name": ""
 },
 "nbformat": 3,
 "nbformat_minor": 0,
 "worksheets": [
  {
   "cells": [
    {
     "cell_type": "markdown",
     "metadata": {
      "slideshow": {
       "slide_type": "slide"
      }
     },
     "source": [
      "<h1 class='title'>IPython notebook</h1>\n",
      "\n",
      "\n",
      "<h2 class='subtitle'>widgets and alternative visulisation tools</h2>\n",
      "\n",
      "\n",
      "<p class='gap05'>&nbsp;\n",
      "<div class='author'>\n",
      "Ivan Zimine<br />\n",
      "vanzaj (@gmail, github, twitter)\n",
      "</div>\n"
     ]
    },
    {
     "cell_type": "code",
     "collapsed": false,
     "input": [
      "%run talk_utils"
     ],
     "language": "python",
     "metadata": {
      "slideshow": {
       "slide_type": "skip"
      }
     },
     "outputs": [],
     "prompt_number": ""
    },
    {
     "cell_type": "code",
     "collapsed": false,
     "input": [
      "YouTubeVideo('wjSsISiacEU', width=600, height=400)"
     ],
     "language": "python",
     "metadata": {
      "slideshow": {
       "slide_type": "slide"
      }
     },
     "outputs": [],
     "prompt_number": ""
    },
    {
     "cell_type": "code",
     "collapsed": false,
     "input": [
      "website('http://worrydream.com/ExplorableExplanations/', 'Reactive documents')"
     ],
     "language": "python",
     "metadata": {
      "slideshow": {
       "slide_type": "slide"
      }
     },
     "outputs": [],
     "prompt_number": ""
    },
    {
     "cell_type": "code",
     "collapsed": false,
     "input": [
      "website('https://en.wikipedia.org/wiki/Literate_programming', 'Literate programming')"
     ],
     "language": "python",
     "metadata": {
      "slideshow": {
       "slide_type": "slide"
      }
     },
     "outputs": [],
     "prompt_number": ""
    },
    {
     "cell_type": "code",
     "collapsed": false,
     "input": [
      "website('http://ipython.org/notebook.html', 'IPython Notebook')"
     ],
     "language": "python",
     "metadata": {
      "slideshow": {
       "slide_type": "slide"
      }
     },
     "outputs": [],
     "prompt_number": ""
    },
    {
     "cell_type": "markdown",
     "metadata": {
      "slideshow": {
       "slide_type": "slide"
      }
     },
     "source": [
      "## live code cells"
     ]
    },
    {
     "cell_type": "code",
     "collapsed": false,
     "input": [
      "import random\n",
      "\n",
      "# generate a random number between 1000 and 9999\n",
      "n = random.randint(1e3, 1e4-1)\n",
      "n*2"
     ],
     "language": "python",
     "metadata": {
      "slideshow": {
       "slide_type": "-"
      }
     },
     "outputs": [],
     "prompt_number": ""
    },
    {
     "cell_type": "markdown",
     "metadata": {},
     "source": [
      "Code cells are executable mini-editors. It's like having a bunch of interactive shells sharing the same namespace."
     ]
    },
    {
     "cell_type": "code",
     "collapsed": false,
     "input": [
      "if n < 5000:\n",
      "    print('Smaller half')\n",
      "else:\n",
      "    print('Bigger half')"
     ],
     "language": "python",
     "metadata": {},
     "outputs": [],
     "prompt_number": ""
    },
    {
     "cell_type": "markdown",
     "metadata": {
      "slideshow": {
       "slide_type": "slide"
      }
     },
     "source": [
      "## live documentation"
     ]
    },
    {
     "cell_type": "code",
     "collapsed": false,
     "input": [
      "n = random.randint(1e3, 1e4-1)  # that's 10^3\n",
      "print(n)"
     ],
     "language": "python",
     "metadata": {
      "slideshow": {
       "slide_type": "-"
      }
     },
     "outputs": [],
     "prompt_number": ""
    },
    {
     "cell_type": "markdown",
     "metadata": {
      "slideshow": {
       "slide_type": "-"
      }
     },
     "source": [
      "$10^3$ is **much** better than '10^3' to explan '`1e3`'."
     ]
    },
    {
     "cell_type": "markdown",
     "metadata": {
      "slideshow": {
       "slide_type": "slide"
      }
     },
     "source": [
      "## interaction with OS"
     ]
    },
    {
     "cell_type": "code",
     "collapsed": false,
     "input": [
      "%%bash\n",
      "\n",
      "#echo $PATH\n",
      "\n",
      "py=$(which python)\n",
      "echo \"Current python executable: $py\""
     ],
     "language": "python",
     "metadata": {
      "slideshow": {
       "slide_type": "fragment"
      }
     },
     "outputs": [],
     "prompt_number": ""
    },
    {
     "cell_type": "code",
     "collapsed": false,
     "input": [
      "!ls ../data/"
     ],
     "language": "python",
     "metadata": {
      "slideshow": {
       "slide_type": "fragment"
      }
     },
     "outputs": [],
     "prompt_number": ""
    },
    {
     "cell_type": "markdown",
     "metadata": {
      "slideshow": {
       "slide_type": "slide"
      }
     },
     "source": [
      "## interaction with OS"
     ]
    },
    {
     "cell_type": "code",
     "collapsed": false,
     "input": [
      "fls = !ls ../data/\n",
      "type(fls)"
     ],
     "language": "python",
     "metadata": {},
     "outputs": [],
     "prompt_number": ""
    },
    {
     "cell_type": "code",
     "collapsed": false,
     "input": [
      "!head ../data/{fls[-3]}"
     ],
     "language": "python",
     "metadata": {},
     "outputs": [],
     "prompt_number": ""
    },
    {
     "cell_type": "markdown",
     "metadata": {
      "slideshow": {
       "slide_type": "slide"
      }
     },
     "source": [
      "## rich output"
     ]
    },
    {
     "cell_type": "code",
     "collapsed": false,
     "input": [
      "import pandas as pd\n",
      "\n",
      "df = pd.read_csv('../data/'+fls[-3])\n",
      "df.head(4)"
     ],
     "language": "python",
     "metadata": {},
     "outputs": [],
     "prompt_number": ""
    },
    {
     "cell_type": "markdown",
     "metadata": {
      "slideshow": {
       "slide_type": "slide"
      }
     },
     "source": [
      "## rich output"
     ]
    },
    {
     "cell_type": "code",
     "collapsed": false,
     "input": [
      "from sympy import init_printing, Symbol, cos, sin\n",
      "init_printing(use_latex='mathjax')\n",
      "\n",
      "x = Symbol('x')\n",
      "print(cos(x).series(x, 0, 7))"
     ],
     "language": "python",
     "metadata": {},
     "outputs": [],
     "prompt_number": ""
    },
    {
     "cell_type": "code",
     "collapsed": false,
     "input": [
      "display(cos(x).series(x, 0, 5))"
     ],
     "language": "python",
     "metadata": {},
     "outputs": [],
     "prompt_number": ""
    },
    {
     "cell_type": "markdown",
     "metadata": {
      "slideshow": {
       "slide_type": "slide"
      }
     },
     "source": [
      "## rich output 2.0"
     ]
    },
    {
     "cell_type": "code",
     "collapsed": false,
     "input": [
      "from IPython.html.widgets import interact, ToggleButtonsWidget\n",
      "\n",
      "\n",
      "def show_series(n):\n",
      "    display(cos(x).series(x, 0, n))\n",
      "\n",
      "\n",
      "interact(show_series, n=(3,25));"
     ],
     "language": "python",
     "metadata": {},
     "outputs": [],
     "prompt_number": ""
    },
    {
     "cell_type": "code",
     "collapsed": false,
     "input": [
      "import string\n",
      "\n",
      "def gen_passwd(length=6, punctuation=False):\n",
      "    chars = string.ascii_letters + string.digits\n",
      "    if punctuation:\n",
      "        chars += string.punctuation\n",
      "    passwd = [random.choice(chars) for _ in range(length)]\n",
      "    return ''.join(passwd)\n",
      "\n",
      "\n",
      "def print_passwd(length=6, punctuation=False):\n",
      "    print(\"New password: \" + gen_passwd(length, punctuation))\n",
      "\n",
      "\n",
      "interact(print_passwd, \n",
      "         length=(6,20), \n",
      "         punctuation={\"no\": False, \"yes\":True});"
     ],
     "language": "python",
     "metadata": {
      "slideshow": {
       "slide_type": "slide"
      }
     },
     "outputs": [],
     "prompt_number": ""
    },
    {
     "cell_type": "markdown",
     "metadata": {
      "slideshow": {
       "slide_type": "slide"
      }
     },
     "source": [
      "## html5"
     ]
    },
    {
     "cell_type": "code",
     "collapsed": false,
     "input": [
      "from IPython.display import Audio, clear_output\n",
      "\n",
      "duration = 3\n",
      "sampling = 8000\n",
      "ts = np.linspace(0, duration, sampling*duration)\n",
      "\n",
      "def sig_gen(time, f0=220.0, f1=224.0):\n",
      "    two_pi = 2*np.pi\n",
      "    sig = np.sin(two_pi*f0*time) + np.sin(two_pi*f1*time)\n",
      "    return sig\n",
      "\n",
      "display(Audio(data=sig_gen(ts), rate=sampling))"
     ],
     "language": "python",
     "metadata": {},
     "outputs": [],
     "prompt_number": ""
    },
    {
     "cell_type": "code",
     "collapsed": false,
     "input": [
      "def play_sig(f0=220.0, f1=224.0):\n",
      "    sig = sig_gen(ts, f0, f1)\n",
      "    display(Audio(data=sig, rate=sampling, autoplay=True))\n",
      "\n",
      "    \n",
      "interact(play_sig, f0=(200.0, 300.0), f1=(200.0, 300.0));"
     ],
     "language": "python",
     "metadata": {
      "slideshow": {
       "slide_type": "slide"
      }
     },
     "outputs": [],
     "prompt_number": ""
    },
    {
     "cell_type": "code",
     "collapsed": false,
     "input": [
      "%matplotlib inline"
     ],
     "language": "python",
     "metadata": {
      "slideshow": {
       "slide_type": "slide"
      }
     },
     "outputs": [],
     "prompt_number": ""
    },
    {
     "cell_type": "code",
     "collapsed": false,
     "input": [
      "def play_sig(f0=220.0, f1=224.0):\n",
      "    sig = sig_gen(ts, f0, f1)\n",
      "    display(Audio(data=sig, rate=sampling, autoplay=True))\n",
      "    plt.plot(ts[:sampling/2], sig[:sampling/2])\n",
      "\n",
      "    \n",
      "interact(play_sig, f0=(200.0, 300.0), f1=(200.0, 300.0));"
     ],
     "language": "python",
     "metadata": {
      "slideshow": {
       "slide_type": "-"
      }
     },
     "outputs": [],
     "prompt_number": ""
    },
    {
     "cell_type": "markdown",
     "metadata": {
      "slideshow": {
       "slide_type": "slide"
      }
     },
     "source": [
      "## Alternative visualization"
     ]
    },
    {
     "cell_type": "code",
     "collapsed": false,
     "input": [
      "import mpld3\n",
      "mpld3.enable_notebook()"
     ],
     "language": "python",
     "metadata": {},
     "outputs": [],
     "prompt_number": ""
    },
    {
     "cell_type": "code",
     "collapsed": false,
     "input": [
      "t = ts[:4000]\n",
      "s = sig_gen(t, f0=220.0, f1=224.0)\n",
      "\n",
      "plt.plot(t, s);"
     ],
     "language": "python",
     "metadata": {},
     "outputs": [],
     "prompt_number": ""
    },
    {
     "cell_type": "code",
     "collapsed": false,
     "input": [
      "npts = 50\n",
      "rnd_err = np.random.randn(npts)*15\n",
      "\n",
      "# simulate quadratic process\n",
      "a, b, c = 0.5, -2.4, -8.0\n",
      "x = np.linspace(-10, 20, npts)\n",
      "y = a * x**2 + b * x + c\n",
      "\n",
      "dat = y + rnd_err\n",
      "\n",
      "# fit\n",
      "p = np.polyfit(x, dat, 2)\n",
      "y_fit = np.polyval(p, x)\n",
      "\n",
      "#plt.plot(x, dat, 'ko', mfc='none');\n",
      "plt.plot(x, dat, 'ko');\n",
      "plt.plot(x, y, 'g');\n",
      "plt.plot(x, y_fit, 'r');"
     ],
     "language": "python",
     "metadata": {
      "slideshow": {
       "slide_type": "slide"
      }
     },
     "outputs": [],
     "prompt_number": ""
    },
    {
     "cell_type": "markdown",
     "metadata": {
      "slideshow": {
       "slide_type": "slide"
      }
     },
     "source": [
      "## seaborn"
     ]
    },
    {
     "cell_type": "code",
     "collapsed": false,
     "input": [
      "mpld3.disable_notebook()\n",
      "npts = 500\n",
      "x1 = np.random.normal(-1, 1, size=npts)\n",
      "x2 = np.random.normal(1, 1, size=npts)\n",
      "x3 = np.random.normal(2, 1, size=npts)\n",
      "\n",
      "plt.hist(x1, normed=True);\n",
      "plt.hist(x2, normed=True);\n",
      "plt.hist(x3, normed=True);"
     ],
     "language": "python",
     "metadata": {},
     "outputs": [],
     "prompt_number": ""
    },
    {
     "cell_type": "code",
     "collapsed": false,
     "input": [
      "import seaborn as sb\n",
      "\n",
      "mpld3.enable_notebook()\n",
      "\n",
      "plt.hist(x1, normed=True);\n",
      "plt.hist(x2, normed=True);\n",
      "plt.hist(x3, normed=True);"
     ],
     "language": "python",
     "metadata": {},
     "outputs": [],
     "prompt_number": ""
    },
    {
     "cell_type": "code",
     "collapsed": false,
     "input": [
      "sb.set_style('whitegrid')\n",
      "\n",
      "sb.set_palette(\"deep\")\n",
      "#sb.set_palette(sb.color_palette(\"Set2\"))\n",
      "\n",
      "nbins = 10\n",
      "sb.distplot(x1, bins=nbins);\n",
      "sb.distplot(x2, bins=nbins);\n",
      "sb.distplot(x3, bins=nbins);"
     ],
     "language": "python",
     "metadata": {},
     "outputs": [],
     "prompt_number": ""
    },
    {
     "cell_type": "code",
     "collapsed": false,
     "input": [
      "sb.palplot(sb.color_palette())"
     ],
     "language": "python",
     "metadata": {},
     "outputs": [],
     "prompt_number": ""
    },
    {
     "cell_type": "code",
     "collapsed": false,
     "input": [
      "mpld3.disable_notebook()"
     ],
     "language": "python",
     "metadata": {},
     "outputs": [],
     "prompt_number": ""
    }
   ],
   "metadata": {}
  }
 ]
}