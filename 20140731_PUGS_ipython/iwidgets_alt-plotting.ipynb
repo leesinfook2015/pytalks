{
 "metadata": {
  "celltoolbar": "Slideshow",
  "name": ""
 },
 "nbformat": 3,
 "nbformat_minor": 0,
 "worksheets": [
  {
   "cells": [
    {
     "cell_type": "markdown",
     "metadata": {
      "slideshow": {
       "slide_type": "slide"
      }
     },
     "source": [
      "<h1 class='title'>IPython notebook</h1>\n",
      "\n",
      "\n",
      "<h2 class='subtitle'>widgets and alternative visulisation tools</h2>\n",
      "\n",
      "\n",
      "<p class='gap05'>&nbsp;\n",
      "<div class='author'>\n",
      "Ivan Zimine<br />\n",
      "vanzaj (@gmail, github, twitter)\n",
      "</div>\n"
     ]
    },
    {
     "cell_type": "code",
     "collapsed": false,
     "input": [
      "%run talk_utils"
     ],
     "language": "python",
     "metadata": {
      "slideshow": {
       "slide_type": "skip"
      }
     },
     "outputs": [],
     "prompt_number": ""
    },
    {
     "cell_type": "code",
     "collapsed": false,
     "input": [
      "YouTubeVideo('wjSsISiacEU', width=600, height=400)"
     ],
     "language": "python",
     "metadata": {
      "slideshow": {
       "slide_type": "slide"
      }
     },
     "outputs": [],
     "prompt_number": ""
    },
    {
     "cell_type": "code",
     "collapsed": false,
     "input": [
      "website('http://worrydream.com/ExplorableExplanations/', 'Reactive documents')"
     ],
     "language": "python",
     "metadata": {
      "slideshow": {
       "slide_type": "slide"
      }
     },
     "outputs": [],
     "prompt_number": ""
    },
    {
     "cell_type": "code",
     "collapsed": false,
     "input": [
      "website('https://en.wikipedia.org/wiki/Literate_programming', 'Literate programming')"
     ],
     "language": "python",
     "metadata": {
      "slideshow": {
       "slide_type": "slide"
      }
     },
     "outputs": [],
     "prompt_number": ""
    },
    {
     "cell_type": "code",
     "collapsed": false,
     "input": [
      "website('http://ipython.org/notebook.html', 'IPython Notebook')"
     ],
     "language": "python",
     "metadata": {
      "slideshow": {
       "slide_type": "slide"
      }
     },
     "outputs": [],
     "prompt_number": ""
    },
    {
     "cell_type": "markdown",
     "metadata": {
      "slideshow": {
       "slide_type": "slide"
      }
     },
     "source": [
      "## live code cells"
     ]
    },
    {
     "cell_type": "code",
     "collapsed": false,
     "input": [
      "import random\n",
      "\n",
      "# generate a random number between 1000 and 9999\n",
      "n = random.randint(1e3, 1e4-1)\n",
      "n"
     ],
     "language": "python",
     "metadata": {},
     "outputs": [],
     "prompt_number": ""
    },
    {
     "cell_type": "markdown",
     "metadata": {},
     "source": [
      "Code cells are executable mini-editors. It's like having a bunch of interactive shells sharing the same namespace."
     ]
    },
    {
     "cell_type": "code",
     "collapsed": false,
     "input": [
      "if n < 5000:\n",
      "    print('Smaller half')\n",
      "else:\n",
      "    print('Bigger half')"
     ],
     "language": "python",
     "metadata": {},
     "outputs": [],
     "prompt_number": ""
    },
    {
     "cell_type": "markdown",
     "metadata": {
      "slideshow": {
       "slide_type": "-"
      }
     },
     "source": [
      "## live documentation\n",
      "\n",
      "We could use '10^3' in the comments to explan '`1e3`', but $10^3$ is **much** better."
     ]
    },
    {
     "cell_type": "markdown",
     "metadata": {
      "slideshow": {
       "slide_type": "slide"
      }
     },
     "source": [
      "## interaction with OS"
     ]
    },
    {
     "cell_type": "code",
     "collapsed": false,
     "input": [
      "%%bash\n",
      "\n",
      "echo $HOME\n",
      "which python"
     ],
     "language": "python",
     "metadata": {
      "slideshow": {
       "slide_type": "-"
      }
     },
     "outputs": [],
     "prompt_number": ""
    },
    {
     "cell_type": "code",
     "collapsed": false,
     "input": [
      "!ls ../data/"
     ],
     "language": "python",
     "metadata": {},
     "outputs": [],
     "prompt_number": ""
    },
    {
     "cell_type": "markdown",
     "metadata": {
      "slideshow": {
       "slide_type": "slide"
      }
     },
     "source": [
      "## interaction with OS"
     ]
    },
    {
     "cell_type": "code",
     "collapsed": false,
     "input": [
      "fls = !ls ../data/\n",
      "fls"
     ],
     "language": "python",
     "metadata": {},
     "outputs": [],
     "prompt_number": ""
    },
    {
     "cell_type": "code",
     "collapsed": false,
     "input": [
      "!head ../data/{fls[-3]}"
     ],
     "language": "python",
     "metadata": {},
     "outputs": [],
     "prompt_number": ""
    },
    {
     "cell_type": "markdown",
     "metadata": {
      "slideshow": {
       "slide_type": "slide"
      }
     },
     "source": [
      "## rich output"
     ]
    },
    {
     "cell_type": "code",
     "collapsed": false,
     "input": [
      "import pandas as pd\n",
      "\n",
      "df = pd.read_csv('../data/'+fls[-3])\n",
      "df.head()"
     ],
     "language": "python",
     "metadata": {},
     "outputs": [],
     "prompt_number": ""
    },
    {
     "cell_type": "markdown",
     "metadata": {
      "slideshow": {
       "slide_type": "slide"
      }
     },
     "source": [
      "## rich output"
     ]
    },
    {
     "cell_type": "code",
     "collapsed": false,
     "input": [
      "from sympy import init_printing, Symbol, cos, sin\n",
      "init_printing(use_latex='mathjax')\n",
      "\n",
      "x = Symbol('x')\n",
      "print(cos(x).series(x, 0, 7))"
     ],
     "language": "python",
     "metadata": {},
     "outputs": [],
     "prompt_number": ""
    },
    {
     "cell_type": "code",
     "collapsed": false,
     "input": [
      "display(cos(x).series(x, 0, 3))"
     ],
     "language": "python",
     "metadata": {},
     "outputs": [],
     "prompt_number": ""
    },
    {
     "cell_type": "markdown",
     "metadata": {
      "slideshow": {
       "slide_type": "slide"
      }
     },
     "source": [
      "## rich output 2.0"
     ]
    },
    {
     "cell_type": "code",
     "collapsed": false,
     "input": [
      "from IPython.html.widgets import interact, ToggleButtonsWidget\n",
      "\n",
      "\n",
      "def trig_series(n):\n",
      "    display(cos(x).series(x, 0, n))\n",
      "\n",
      "\n",
      "interact(trig_series, n=(3,15));"
     ],
     "language": "python",
     "metadata": {},
     "outputs": [],
     "prompt_number": ""
    },
    {
     "cell_type": "code",
     "collapsed": false,
     "input": [
      "import string\n",
      "\n",
      "def gen_passwd(length=6, punctuation=False):\n",
      "    chars = string.ascii_letters + string.digits\n",
      "    if punctuation:\n",
      "        chars += string.punctuation\n",
      "    passwd = [random.choice(chars) for _ in range(length)]\n",
      "    return ''.join(passwd)\n",
      "\n",
      "def print_passwd(length=6, punctuation=False):\n",
      "    print(gen_passwd(length, punctuation))\n",
      "\n",
      "\n",
      "interact(print_passwd, \n",
      "         length=(6,20), \n",
      "         punctuation={\"no\": False, \"yes\":True});"
     ],
     "language": "python",
     "metadata": {
      "slideshow": {
       "slide_type": "slide"
      }
     },
     "outputs": [],
     "prompt_number": ""
    },
    {
     "cell_type": "markdown",
     "metadata": {
      "slideshow": {
       "slide_type": "slide"
      }
     },
     "source": [
      "## html5"
     ]
    },
    {
     "cell_type": "code",
     "collapsed": false,
     "input": [
      "from IPython.display import Audio, clear_output\n",
      "import numpy as np\n",
      "\n",
      "\n",
      "duration = 3\n",
      "sampling = 8000\n",
      "ts = np.linspace(0, duration, sampling*duration)\n",
      "\n",
      "def sig_gen(f0=220.0, f1=224.0):\n",
      "    global ts, sampling\n",
      "    two_pi = 2*np.pi\n",
      "    sig = np.sin(two_pi*f0*ts) + np.sin(two_pi*f1*ts)\n",
      "    display(Audio(data=sig, rate=sampling))\n",
      "    return sig\n",
      "\n",
      "sig_gen();"
     ],
     "language": "python",
     "metadata": {},
     "outputs": [],
     "prompt_number": ""
    },
    {
     "cell_type": "code",
     "collapsed": false,
     "input": [
      "interact(sig_gen, f0=(200.0, 300.0), f1=(200.0, 300.0));"
     ],
     "language": "python",
     "metadata": {
      "slideshow": {
       "slide_type": "slide"
      }
     },
     "outputs": [],
     "prompt_number": ""
    },
    {
     "cell_type": "code",
     "collapsed": false,
     "input": [],
     "language": "python",
     "metadata": {},
     "outputs": []
    }
   ],
   "metadata": {}
  }
 ]
}