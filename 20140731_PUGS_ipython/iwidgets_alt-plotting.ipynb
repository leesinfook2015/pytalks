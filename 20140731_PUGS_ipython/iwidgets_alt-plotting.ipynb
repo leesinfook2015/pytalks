{
 "metadata": {
  "celltoolbar": "Slideshow",
  "name": "",
  "signature": "sha256:0f289aa0d87cbc5efbe0c5a9c2a1c93b175c6961a4fd8867ead00b4d13223654"
 },
 "nbformat": 3,
 "nbformat_minor": 0,
 "worksheets": [
  {
   "cells": [
    {
     "cell_type": "markdown",
     "metadata": {
      "slideshow": {
       "slide_type": "slide"
      }
     },
     "source": [
      "<h1 class='title'>Interactive IPython notebook</h1>\n",
      "\n",
      "\n",
      "<h2 class='subtitle'>widgets and alternative visulisation tools</h2>\n",
      "\n",
      "\n",
      "<p class='gap05'>&nbsp;\n",
      "<div class='author'>\n",
      "Ivan Zimine<br />\n",
      "vanzaj (@gmail, github, twitter)\n",
      "</div>\n"
     ]
    },
    {
     "cell_type": "code",
     "collapsed": false,
     "input": [
      "%run talk_utils"
     ],
     "language": "python",
     "metadata": {
      "slideshow": {
       "slide_type": "skip"
      }
     },
     "outputs": [
      {
       "html": [
        "<style>\n",
        "\n",
        ".rendered_html {\n",
        "  color: #2C5494;\n",
        "  font-family: \"Times New Roman\";\n",
        "  font-size: 140%;\n",
        "  line-height: 1.1;\n",
        "  margin: 0.5em 0;\n",
        "}\n",
        "\n",
        ".title {\n",
        "  color: #498AF3;\n",
        "  font-size: 250%;\n",
        "  font-weight:bold;\n",
        "  line-height: 1.2; \n",
        "  margin: 10px 50px 10px;\n",
        "  text-align: center;\n",
        "}\n",
        "\n",
        ".subtitle {\n",
        "  color: #386BBC;\n",
        "  font-size: 180%;\n",
        "  font-weight:bold;\n",
        "  line-height: 1.2; \n",
        "  margin: 20px 50px 20px;\n",
        "  text-align: center;\n",
        "}\n",
        "\n",
        ".author {\n",
        "  color: black;\n",
        "  font-size: 140%;\n",
        "  font-weight:bold;\n",
        "  line-height: 1.2; \n",
        "  margin: 20px 50px 20px;\n",
        "  text-align: center;\n",
        "}\n",
        "\n",
        ".slide-header, p.slide-header {\n",
        "  color: #498AF3;\n",
        "  font-size: 200%;\n",
        "  font-weight:bold;\n",
        "  margin: 0px 20px 10px;\n",
        "  page-break-before: always;\n",
        "}\n",
        "\n",
        ".rendered_html h1 {\n",
        "  color: #498AF3;\n",
        "  line-height: 1.2; \n",
        "  margin: 0.15em 0em 0.5em;\n",
        "  page-break-before: always;\n",
        "  /*text-align: center;*/\n",
        "}\n",
        "\n",
        ".rendered_html h2 { \n",
        "  color: #386BBC;\n",
        "  line-height: 1.2;\n",
        "  margin: 1.1em 0em 0.5em;\n",
        "}\n",
        "\n",
        ".rendered_html h3 { \n",
        "  font-size: 100%;\n",
        "  line-height: 1.2;\n",
        "  margin: 1.1em 0em 0.5em;\n",
        "}\n",
        "\n",
        ".rendered_html li {\n",
        "  line-height: 1.8;\n",
        "}\n",
        "\n",
        ".rendered_html table {\n",
        "  color: black;\n",
        "  font-size: 80%;\n",
        "  font-family: sans-serif;\n",
        "}\n",
        "\n",
        ".input_prompt, .CodeMirror-lines, .output_area {\n",
        "  font-family: \"Source Code Pro\", monospace;\n",
        "  font-size: 120%;\n",
        "}\n",
        "\n",
        ".gap-above {\n",
        "  padding-top: 200px;\n",
        "}\n",
        "\n",
        ".gap01 {\n",
        "  padding-top: 10px;\n",
        "}\n",
        "\n",
        ".gap05 {\n",
        "  padding-top: 50px;\n",
        "}\n",
        "\n",
        ".gap1 {\n",
        "  padding-top: 100px;\n",
        "}\n",
        "\n",
        ".gap2 {\n",
        "  padding-top: 200px;\n",
        "}\n",
        "\n",
        ".gap3 {\n",
        "  padding-top: 300px;\n",
        "}\n",
        "\n",
        ".emph {\n",
        "  color: #386BBC;\n",
        "}\n",
        "\n",
        ".warn {\n",
        "  color: red;\n",
        "}\n",
        "\n",
        ".center {\n",
        "  text-align: center;\n",
        "}\n",
        "\n",
        ".nb_link\n",
        "{\n",
        "    padding-bottom: 0.5em;\n",
        "}\n",
        "\n",
        "</style>\n"
       ],
       "metadata": {},
       "output_type": "display_data",
       "text": [
        "<IPython.core.display.HTML at 0x1118d9f60>"
       ]
      }
     ],
     "prompt_number": 103
    },
    {
     "cell_type": "code",
     "collapsed": false,
     "input": [
      "YouTubeVideo('wjSsISiacEU', width=600, height=400)"
     ],
     "language": "python",
     "metadata": {
      "slideshow": {
       "slide_type": "slide"
      }
     },
     "outputs": [
      {
       "html": [
        "\n",
        "        <iframe\n",
        "            width=\"600\"\n",
        "            height=400\"\n",
        "            src=\"https://www.youtube.com/embed/wjSsISiacEU\"\n",
        "            frameborder=\"0\"\n",
        "            allowfullscreen\n",
        "        ></iframe>\n",
        "        "
       ],
       "metadata": {},
       "output_type": "pyout",
       "prompt_number": 2,
       "text": [
        "<IPython.lib.display.YouTubeVideo at 0x1118d90b8>"
       ]
      }
     ],
     "prompt_number": 2
    },
    {
     "cell_type": "code",
     "collapsed": false,
     "input": [
      "website('http://worrydream.com/ExplorableExplanations/', 'Reactive documents')"
     ],
     "language": "python",
     "metadata": {
      "slideshow": {
       "slide_type": "slide"
      }
     },
     "outputs": [
      {
       "html": [
        "<div class=\"nb_link\">\n",
        "<a href=\"http://worrydream.com/ExplorableExplanations/\" target=\"_blank\">Reactive documents</a>\n",
        "</div>\n",
        "<iframe src=\"http://worrydream.com/ExplorableExplanations/\"  width=\"800\" height=\"450\">"
       ],
       "metadata": {},
       "output_type": "pyout",
       "prompt_number": 7,
       "text": [
        "<IPython.core.display.HTML at 0x1118d90f0>"
       ]
      }
     ],
     "prompt_number": 7
    },
    {
     "cell_type": "code",
     "collapsed": false,
     "input": [
      "website('https://en.wikipedia.org/wiki/Literate_programming', 'Literate programming')"
     ],
     "language": "python",
     "metadata": {
      "slideshow": {
       "slide_type": "slide"
      }
     },
     "outputs": [
      {
       "html": [
        "<div class=\"nb_link\">\n",
        "<a href=\"https://en.wikipedia.org/wiki/Literate_programming\" target=\"_blank\">Literate programming</a>\n",
        "</div>\n",
        "<iframe src=\"https://en.wikipedia.org/wiki/Literate_programming\"  width=\"800\" height=\"450\">"
       ],
       "metadata": {},
       "output_type": "pyout",
       "prompt_number": 8,
       "text": [
        "<IPython.core.display.HTML at 0x1118d9630>"
       ]
      }
     ],
     "prompt_number": 8
    },
    {
     "cell_type": "code",
     "collapsed": false,
     "input": [
      "website('http://ipython.org/notebook.html', 'IPython Notebook')"
     ],
     "language": "python",
     "metadata": {
      "slideshow": {
       "slide_type": "slide"
      }
     },
     "outputs": [
      {
       "html": [
        "<div class=\"nb_link\">\n",
        "<a href=\"http://ipython.org/notebook.html\" target=\"_blank\">IPython Notebook</a>\n",
        "</div>\n",
        "<iframe src=\"http://ipython.org/notebook.html\"  width=\"800\" height=\"450\">"
       ],
       "metadata": {},
       "output_type": "pyout",
       "prompt_number": 11,
       "text": [
        "<IPython.core.display.HTML at 0x1118d9d30>"
       ]
      }
     ],
     "prompt_number": 11
    },
    {
     "cell_type": "markdown",
     "metadata": {
      "slideshow": {
       "slide_type": "slide"
      }
     },
     "source": [
      "## live code cells"
     ]
    },
    {
     "cell_type": "code",
     "collapsed": false,
     "input": [
      "import random\n",
      "\n",
      "# generate a random number between 1000 and 9999\n",
      "n = random.randint(1e3, 1e4-1)\n",
      "print(n)"
     ],
     "language": "python",
     "metadata": {},
     "outputs": [
      {
       "output_type": "stream",
       "stream": "stdout",
       "text": [
        "7652\n"
       ]
      }
     ],
     "prompt_number": 45
    },
    {
     "cell_type": "code",
     "collapsed": false,
     "input": [
      "# shared namespace\n",
      "\n",
      "if n < 5000:\n",
      "    print('Smaller half')\n",
      "else:\n",
      "    print('Bigger half')"
     ],
     "language": "python",
     "metadata": {},
     "outputs": [
      {
       "output_type": "stream",
       "stream": "stdout",
       "text": [
        "Bigger half\n"
       ]
      }
     ],
     "prompt_number": 46
    },
    {
     "cell_type": "markdown",
     "metadata": {},
     "source": [
      "## live documentation\n",
      "\n",
      "We could use '10^3' in the comments to explan '`1e3`', but $10^3$ is **much** better."
     ]
    },
    {
     "cell_type": "markdown",
     "metadata": {
      "slideshow": {
       "slide_type": "slide"
      }
     },
     "source": [
      "## interaction with OS"
     ]
    },
    {
     "cell_type": "code",
     "collapsed": false,
     "input": [
      "%%bash\n",
      "\n",
      "echo $HOME\n",
      "which python"
     ],
     "language": "python",
     "metadata": {
      "slideshow": {
       "slide_type": "-"
      }
     },
     "outputs": [
      {
       "output_type": "stream",
       "stream": "stdout",
       "text": [
        "/Users/ivan\n",
        "/Users/ivan/dev/pve/dev3/bin/python\n"
       ]
      }
     ],
     "prompt_number": 57
    },
    {
     "cell_type": "code",
     "collapsed": false,
     "input": [
      "!ls ../data/"
     ],
     "language": "python",
     "metadata": {},
     "outputs": [
      {
       "output_type": "stream",
       "stream": "stdout",
       "text": [
        "2013-Nov_chicago-salaries.csv.gz UN_infant_mortality.csv          countries.json\r\n",
        "20131117_bash_history.txt        UN_population.csv                population.txt\r\n"
       ]
      }
     ],
     "prompt_number": 50
    },
    {
     "cell_type": "markdown",
     "metadata": {
      "slideshow": {
       "slide_type": "slide"
      }
     },
     "source": [
      "## interaction with OS"
     ]
    },
    {
     "cell_type": "code",
     "collapsed": false,
     "input": [
      "fls = !ls ../data/\n",
      "fls"
     ],
     "language": "python",
     "metadata": {},
     "outputs": [
      {
       "metadata": {},
       "output_type": "pyout",
       "prompt_number": 49,
       "text": [
        "['2013-Nov_chicago-salaries.csv.gz',\n",
        " '20131117_bash_history.txt',\n",
        " 'UN_infant_mortality.csv',\n",
        " 'UN_population.csv',\n",
        " 'countries.json',\n",
        " 'population.txt']"
       ]
      }
     ],
     "prompt_number": 49
    },
    {
     "cell_type": "code",
     "collapsed": false,
     "input": [
      "!head ../data/{fls[-3]}"
     ],
     "language": "python",
     "metadata": {},
     "outputs": [
      {
       "output_type": "stream",
       "stream": "stdout",
       "text": [
        "\"Country\",\"Subgroup\",\"Year\",\"Unit\",\"Value\",\"Value Footnotes\"\r",
        "\r\n",
        "\"Afghanistan\",\"Female\",\"2005\",\"Number\",\"12082881\",\"\"\r",
        "\r\n",
        "\"Afghanistan\",\"Female\",\"2002\",\"Number\",\"9844300\",\"1\"\r",
        "\r\n",
        "\"Afghanistan\",\"Female\",\"2000\",\"Number\",\"9993697\",\"\"\r",
        "\r\n",
        "\"Afghanistan\",\"Female\",\"1995\",\"Number\",\"8792425\",\"\"\r",
        "\r\n",
        "\"Afghanistan\",\"Female\",\"1990\",\"Number\",\"6091918\",\"\"\r",
        "\r\n",
        "\"Afghanistan\",\"Female\",\"1985\",\"Number\",\"5933958\",\"\"\r",
        "\r\n",
        "\"Afghanistan\",\"Male\",\"2005\",\"Number\",\"12984526\",\"\"\r",
        "\r\n",
        "\"Afghanistan\",\"Male\",\"2002\",\"Number\",\"10453500\",\"1\"\r",
        "\r\n",
        "\"Afghanistan\",\"Male\",\"2000\",\"Number\",\"10743556\",\"\"\r",
        "\r\n"
       ]
      }
     ],
     "prompt_number": 63
    },
    {
     "cell_type": "markdown",
     "metadata": {
      "slideshow": {
       "slide_type": "slide"
      }
     },
     "source": [
      "## rich output"
     ]
    },
    {
     "cell_type": "code",
     "collapsed": false,
     "input": [
      "import pandas as pd\n",
      "\n",
      "df = pd.read_csv('../data/'+fls[-3])\n",
      "df.head()"
     ],
     "language": "python",
     "metadata": {},
     "outputs": [
      {
       "html": [
        "<div style=\"max-height:1000px;max-width:1500px;overflow:auto;\">\n",
        "<table border=\"1\" class=\"dataframe\">\n",
        "  <thead>\n",
        "    <tr style=\"text-align: right;\">\n",
        "      <th></th>\n",
        "      <th>Country</th>\n",
        "      <th>Subgroup</th>\n",
        "      <th>Year</th>\n",
        "      <th>Unit</th>\n",
        "      <th>Value</th>\n",
        "      <th>Value Footnotes</th>\n",
        "    </tr>\n",
        "  </thead>\n",
        "  <tbody>\n",
        "    <tr>\n",
        "      <th>0</th>\n",
        "      <td> Afghanistan</td>\n",
        "      <td> Female</td>\n",
        "      <td> 2005</td>\n",
        "      <td> Number</td>\n",
        "      <td> 12082881</td>\n",
        "      <td>NaN</td>\n",
        "    </tr>\n",
        "    <tr>\n",
        "      <th>1</th>\n",
        "      <td> Afghanistan</td>\n",
        "      <td> Female</td>\n",
        "      <td> 2002</td>\n",
        "      <td> Number</td>\n",
        "      <td>  9844300</td>\n",
        "      <td>  1</td>\n",
        "    </tr>\n",
        "    <tr>\n",
        "      <th>2</th>\n",
        "      <td> Afghanistan</td>\n",
        "      <td> Female</td>\n",
        "      <td> 2000</td>\n",
        "      <td> Number</td>\n",
        "      <td>  9993697</td>\n",
        "      <td>NaN</td>\n",
        "    </tr>\n",
        "    <tr>\n",
        "      <th>3</th>\n",
        "      <td> Afghanistan</td>\n",
        "      <td> Female</td>\n",
        "      <td> 1995</td>\n",
        "      <td> Number</td>\n",
        "      <td>  8792425</td>\n",
        "      <td>NaN</td>\n",
        "    </tr>\n",
        "    <tr>\n",
        "      <th>4</th>\n",
        "      <td> Afghanistan</td>\n",
        "      <td> Female</td>\n",
        "      <td> 1990</td>\n",
        "      <td> Number</td>\n",
        "      <td>  6091918</td>\n",
        "      <td>NaN</td>\n",
        "    </tr>\n",
        "  </tbody>\n",
        "</table>\n",
        "</div>"
       ],
       "metadata": {},
       "output_type": "pyout",
       "prompt_number": 64,
       "text": [
        "       Country Subgroup  Year    Unit     Value  Value Footnotes\n",
        "0  Afghanistan   Female  2005  Number  12082881              NaN\n",
        "1  Afghanistan   Female  2002  Number   9844300                1\n",
        "2  Afghanistan   Female  2000  Number   9993697              NaN\n",
        "3  Afghanistan   Female  1995  Number   8792425              NaN\n",
        "4  Afghanistan   Female  1990  Number   6091918              NaN"
       ]
      }
     ],
     "prompt_number": 64
    },
    {
     "cell_type": "markdown",
     "metadata": {
      "slideshow": {
       "slide_type": "slide"
      }
     },
     "source": [
      "## rich output"
     ]
    },
    {
     "cell_type": "code",
     "collapsed": false,
     "input": [
      "from sympy import init_printing, Symbol, cos, sin\n",
      "init_printing(use_latex='mathjax')\n",
      "\n",
      "x = Symbol('x')\n",
      "print(cos(x).series(x, 0, 7))"
     ],
     "language": "python",
     "metadata": {},
     "outputs": [
      {
       "output_type": "stream",
       "stream": "stdout",
       "text": [
        "1 - x**2/2 + x**4/24 - x**6/720 + O(x**7)\n"
       ]
      }
     ],
     "prompt_number": 84
    },
    {
     "cell_type": "code",
     "collapsed": false,
     "input": [
      "display(cos(x).series(x, 0, 3))"
     ],
     "language": "python",
     "metadata": {},
     "outputs": [
      {
       "latex": [
        "$$1 - \\frac{x^{2}}{2} + \\mathcal{O}\\left(x^{3}\\right)$$"
       ],
       "metadata": {},
       "output_type": "display_data",
       "text": [
        "     2        \n",
        "    x     \u239b 3\u239e\n",
        "1 - \u2500\u2500 + O\u239dx \u23a0\n",
        "    2         "
       ]
      }
     ],
     "prompt_number": 85
    },
    {
     "cell_type": "markdown",
     "metadata": {
      "slideshow": {
       "slide_type": "slide"
      }
     },
     "source": [
      "## rich output 2.0"
     ]
    },
    {
     "cell_type": "code",
     "collapsed": false,
     "input": [
      "from IPython.html.widgets import interact\n",
      "\n",
      "\n",
      "def trig_series(n):\n",
      "    display(cos(x).series(x, 0, n))\n",
      "\n",
      "\n",
      "interact(trig_series, n=(3,15));"
     ],
     "language": "python",
     "metadata": {},
     "outputs": [
      {
       "latex": [
        "$$1 - \\frac{x^{2}}{2} + \\frac{x^{4}}{24} - \\frac{x^{6}}{720} + \\frac{x^{8}}{40320} - \\frac{x^{10}}{3628800} + \\mathcal{O}\\left(x^{12}\\right)$$"
       ],
       "metadata": {},
       "output_type": "display_data",
       "text": [
        "     2    4     6      8       10           \n",
        "    x    x     x      x       x        \u239b 12\u239e\n",
        "1 - \u2500\u2500 + \u2500\u2500 - \u2500\u2500\u2500 + \u2500\u2500\u2500\u2500\u2500 - \u2500\u2500\u2500\u2500\u2500\u2500\u2500 + O\u239dx  \u23a0\n",
        "    2    24   720   40320   3628800         "
       ]
      }
     ],
     "prompt_number": 91
    },
    {
     "cell_type": "markdown",
     "metadata": {
      "slideshow": {
       "slide_type": "slide"
      }
     },
     "source": [
      "## html5"
     ]
    },
    {
     "cell_type": "code",
     "collapsed": false,
     "input": [
      "from IPython.display import Audio, clear_output\n",
      "import numpy as np\n",
      "\n",
      "\n",
      "duration = 3\n",
      "sampling = 8000\n",
      "ts = np.linspace(0, duration, sampling*duration)\n",
      "\n",
      "def sig_gen(f0=220.0, f1=224.0):\n",
      "    global ts, sampling\n",
      "    two_pi = 2*np.pi\n",
      "    sig = np.sin(two_pi*f0*ts) + np.sin(two_pi*f1*ts)\n",
      "    display(Audio(data=sig, rate=sampling))\n",
      "    return sig\n",
      "\n",
      "sig_gen();"
     ],
     "language": "python",
     "metadata": {},
     "outputs": [
      {
       "html": [
        "\n",
        "                <audio controls=\"controls\" >\n",
        "                    <source src=\"data:audio/wav;base64,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\" type=\"audio/wav\" />\n",
        "                    Your browser does not support the audio element.\n",
        "                </audio>\n",
        "              "
       ],
       "metadata": {},
       "output_type": "display_data",
       "text": [
        "<IPython.lib.display.Audio at 0x117753198>"
       ]
      }
     ],
     "prompt_number": 101
    },
    {
     "cell_type": "code",
     "collapsed": false,
     "input": [
      "interact(sig_gen, f0=(200.0, 300.0), f1=(200.0, 300.0));"
     ],
     "language": "python",
     "metadata": {
      "slideshow": {
       "slide_type": "slide"
      }
     },
     "outputs": [
      {
       "html": [
        "\n",
        "                <audio controls=\"controls\" >\n",
        "                    <source src=\"data:audio/wav;base64,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\" type=\"audio/wav\" />\n",
        "                    Your browser does not support the audio element.\n",
        "                </audio>\n",
        "              "
       ],
       "metadata": {},
       "output_type": "display_data",
       "text": [
        "<IPython.lib.display.Audio at 0x1148210b8>"
       ]
      }
     ],
     "prompt_number": 102
    },
    {
     "cell_type": "code",
     "collapsed": false,
     "input": [],
     "language": "python",
     "metadata": {},
     "outputs": []
    }
   ],
   "metadata": {}
  }
 ]
}