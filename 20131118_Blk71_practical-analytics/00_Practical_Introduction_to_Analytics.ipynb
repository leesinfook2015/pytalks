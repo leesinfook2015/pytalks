{
 "metadata": {
  "name": "",
  "signature": "sha256:ab11c713c4a3660264ae6458f02be1d51731cc5065b816da2241566ed33581e1"
 },
 "nbformat": 3,
 "nbformat_minor": 0,
 "worksheets": [
  {
   "cells": [
    {
     "cell_type": "markdown",
     "metadata": {},
     "source": [
      "<style>\n",
      ".big {font-size: 300%;}\n",
      "</style>\n",
      "\n",
      "<center>\n",
      "<h1 class=\"big\">Practical data analytics with Python</h1>\n",
      "<h3>Ivan Zimine</h3>\n",
      "<h3>(vanzaj @ {gmail, twitter, github})</h3>\n",
      "<h3>18 Nov, 2013</h3>\n",
      "\n",
      "</center>"
     ]
    },
    {
     "cell_type": "markdown",
     "metadata": {},
     "source": [
      "## About Python"
     ]
    },
    {
     "cell_type": "code",
     "collapsed": false,
     "input": [
      "from IPython.display import HTML\n",
      "\n",
      "url = \"https://en.wikipedia.org/wiki/Python_(programming_language)\"\n",
      "HTML('<iframe src=\"%s\" width=800 height=400></iframe>' % url)"
     ],
     "language": "python",
     "metadata": {},
     "outputs": [
      {
       "html": [
        "<iframe src=\"https://en.wikipedia.org/wiki/Python_(programming_language)\" width=800 height=400></iframe>"
       ],
       "metadata": {},
       "output_type": "pyout",
       "prompt_number": 1,
       "text": [
        "<IPython.core.display.HTML at 0x107711400>"
       ]
      }
     ],
     "prompt_number": 1
    },
    {
     "cell_type": "code",
     "collapsed": false,
     "input": [
      "!python -m this | head -5"
     ],
     "language": "python",
     "metadata": {},
     "outputs": [
      {
       "output_type": "stream",
       "stream": "stdout",
       "text": [
        "The Zen of Python, by Tim Peters\r\n",
        "\r\n",
        "Beautiful is better than ugly.\r\n",
        "Explicit is better than implicit.\r\n",
        "Simple is better than complex.\r\n"
       ]
      }
     ],
     "prompt_number": 2
    },
    {
     "cell_type": "code",
     "collapsed": false,
     "input": [
      "# introduction to programming in Python\n",
      "url=\"http://www.greenteapress.com/thinkpython/\"\n",
      "HTML('<iframe src=\"%s\" width=800 height=400></iframe>' % url)"
     ],
     "language": "python",
     "metadata": {},
     "outputs": [
      {
       "html": [
        "<iframe src=\"http://www.greenteapress.com/thinkpython/\" width=800 height=400></iframe>"
       ],
       "metadata": {},
       "output_type": "pyout",
       "prompt_number": 3,
       "text": [
        "<IPython.core.display.HTML at 0x107711390>"
       ]
      }
     ],
     "prompt_number": 3
    },
    {
     "cell_type": "code",
     "collapsed": false,
     "input": [
      "# Stats using standard Python\n",
      "url=\"http://www.greenteapress.com/thinkstats/\"\n",
      "HTML('<iframe src=\"%s\" width=800 height=400></iframe>' % url)"
     ],
     "language": "python",
     "metadata": {},
     "outputs": [
      {
       "html": [
        "<iframe src=\"http://www.greenteapress.com/thinkstats/\" width=800 height=400></iframe>"
       ],
       "metadata": {},
       "output_type": "pyout",
       "prompt_number": 4,
       "text": [
        "<IPython.core.display.HTML at 0x1077112b0>"
       ]
      }
     ],
     "prompt_number": 4
    },
    {
     "cell_type": "markdown",
     "metadata": {},
     "source": [
      "## Analytics using standard Python"
     ]
    },
    {
     "cell_type": "markdown",
     "metadata": {},
     "source": [
      "### What's in my command line history?"
     ]
    },
    {
     "cell_type": "code",
     "collapsed": false,
     "input": [
      "!head ../data/20131117_bash_history.txt"
     ],
     "language": "python",
     "metadata": {},
     "outputs": [
      {
       "output_type": "stream",
       "stream": "stdout",
       "text": [
        "    1  l\r\n",
        "    2  ls\r\n",
        "    3  ls -al\r\n",
        "    4  clear\r\n",
        "    5  ll\r\n",
        "    6  exit\r\n",
        "    7  l\r\n",
        "    8  ls\r\n",
        "    9  mkdir Cloud\r\n",
        "   10  ls\r\n"
       ]
      }
     ],
     "prompt_number": 5
    },
    {
     "cell_type": "code",
     "collapsed": false,
     "input": [
      "# read into python list\n",
      "cmds = !cat ../data/20131117_bash_history.txt\n",
      "print(cmds[:5])\n",
      "print(len(cmds))"
     ],
     "language": "python",
     "metadata": {},
     "outputs": [
      {
       "output_type": "stream",
       "stream": "stdout",
       "text": [
        "['    1  l', '    2  ls', '    3  ls -al', '    4  clear', '    5  ll']\n",
        "22010\n"
       ]
      }
     ],
     "prompt_number": 6
    },
    {
     "cell_type": "code",
     "collapsed": false,
     "input": [
      "cmds[:3]"
     ],
     "language": "python",
     "metadata": {},
     "outputs": [
      {
       "metadata": {},
       "output_type": "pyout",
       "prompt_number": 7,
       "text": [
        "['    1  l', '    2  ls', '    3  ls -al']"
       ]
      }
     ],
     "prompt_number": 7
    },
    {
     "cell_type": "code",
     "collapsed": false,
     "input": [
      "#%%file  toto.py\n",
      "\n",
      "cmd_freq = {}\n",
      "\n",
      "for line in cmds:\n",
      "    try:\n",
      "        c = line.strip().split()[1]\n",
      "    except IndexError:\n",
      "        # caused by empty line\n",
      "        continue\n",
      "    if len(c) > 20:\n",
      "        continue\n",
      "    # aliases\n",
      "    if c in ['l', 'll']:\n",
      "        c = 'ls'\n",
      "        \n",
      "    cmd_freq[c] = cmd_freq.get(c, 0) + 1\n",
      "\n",
      "\n",
      "nb_cmd = len(cmd_freq.keys())\n",
      "\n",
      "print(\"%s: %d\" % (\"nb. of unique cmds\", nb_cmd))\n",
      "print(\"%s: %d\" % (\"freq of 'ls'\", cmd_freq['ls']))"
     ],
     "language": "python",
     "metadata": {},
     "outputs": [
      {
       "output_type": "stream",
       "stream": "stdout",
       "text": [
        "nb. of unique cmds: 433\n",
        "freq of 'ls': 2397\n"
       ]
      }
     ],
     "prompt_number": 8
    },
    {
     "cell_type": "code",
     "collapsed": false,
     "input": [
      "# convert to list of tuples ('cmd', count) and sort by count\n",
      "cmd_freq_sorted = sorted(cmd_freq.items(), key=lambda x: x[1], reverse=True)\n",
      "cmd_freq_sorted[:10]"
     ],
     "language": "python",
     "metadata": {},
     "outputs": [
      {
       "metadata": {},
       "output_type": "pyout",
       "prompt_number": 9,
       "text": [
        "[('cd', 4930),\n",
        " ('git', 3013),\n",
        " ('ls', 2397),\n",
        " ('vi', 1751),\n",
        " ('less', 631),\n",
        " ('mv', 524),\n",
        " ('cat', 509),\n",
        " ('clear', 392),\n",
        " ('pip', 352),\n",
        " ('ipython', 341)]"
       ]
      }
     ],
     "prompt_number": 9
    },
    {
     "cell_type": "code",
     "collapsed": false,
     "input": [
      "# alternative solution\n",
      "from collections import Counter\n",
      "cnt = Counter(cmd_freq)\n",
      "cnt.most_common(10)"
     ],
     "language": "python",
     "metadata": {},
     "outputs": [
      {
       "metadata": {},
       "output_type": "pyout",
       "prompt_number": 10,
       "text": [
        "[('cd', 4930),\n",
        " ('git', 3013),\n",
        " ('ls', 2397),\n",
        " ('vi', 1751),\n",
        " ('less', 631),\n",
        " ('mv', 524),\n",
        " ('cat', 509),\n",
        " ('clear', 392),\n",
        " ('pip', 352),\n",
        " ('ipython', 341)]"
       ]
      }
     ],
     "prompt_number": 10
    },
    {
     "cell_type": "code",
     "collapsed": false,
     "input": [
      "cmd_freq_norm = [ (x[0], float(x[1])/nb_cmd) for x in cmd_freq_sorted ]\n",
      "cmd_freq_norm[:10]"
     ],
     "language": "python",
     "metadata": {},
     "outputs": [
      {
       "metadata": {},
       "output_type": "pyout",
       "prompt_number": 11,
       "text": [
        "[('cd', 11.38568129330254),\n",
        " ('git', 6.958429561200924),\n",
        " ('ls', 5.535796766743649),\n",
        " ('vi', 4.043879907621247),\n",
        " ('less', 1.4572748267898383),\n",
        " ('mv', 1.210161662817552),\n",
        " ('cat', 1.1755196304849884),\n",
        " ('clear', 0.9053117782909931),\n",
        " ('pip', 0.812933025404157),\n",
        " ('ipython', 0.7875288683602771)]"
       ]
      }
     ],
     "prompt_number": 11
    },
    {
     "cell_type": "code",
     "collapsed": false,
     "input": [
      "# compute total of 10 first items\n",
      "sum(map(lambda x: x[1], cmd_freq_norm[:10]))"
     ],
     "language": "python",
     "metadata": {},
     "outputs": []
    },
    {
     "cell_type": "markdown",
     "metadata": {},
     "source": [
      "### Data analytics workflow (big or small)\n",
      "\n",
      "1. Identify problem(s)/question(s)\n",
      "2. Get the data\n",
      "3. Read data into memory\n",
      "4. Transform/Prepare/Cleanup\n",
      "5. Analyze (sort, count, statistical modeling)\n",
      "6. Interpret results\n",
      "\n",
      "<hr />"
     ]
    },
    {
     "cell_type": "markdown",
     "metadata": {},
     "source": [
      "## Analytics using NumPy/SciPy"
     ]
    },
    {
     "cell_type": "markdown",
     "metadata": {},
     "source": [
      "### Computing $\\pi$ using Monte Carlo method\n",
      "\n",
      "\n",
      "![unit circle](http://learntofish.files.wordpress.com/2010/10/circle_dots.png?w=300&h=300)\n",
      "\n",
      "([image source](http://learntofish.wordpress.com/2010/10/13/calculating-pi-with-the-monte-carlo-method/))\n",
      "\n",
      "$$\n",
      "\\frac{A_{circle}}{A_{square}} = \\frac{\\pi r^2}{(2r)^2} = \\frac{\\pi}{4}\n",
      "$$\n",
      "\n",
      "The value of $\\pi$ can be found from the ratio of the areas times 4. If we don't know the areas, we can still estimate the ratio by considering a set of random points inside the square and the fraction of points inside the circle (thinks (a few) games of darts).\n"
     ]
    },
    {
     "cell_type": "code",
     "collapsed": false,
     "input": [
      "%reset"
     ],
     "language": "python",
     "metadata": {},
     "outputs": [
      {
       "name": "stdout",
       "output_type": "stream",
       "stream": "stdout",
       "text": [
        "Once deleted, variables cannot be recovered. Proceed (y/[n])? y\n"
       ]
      }
     ],
     "prompt_number": 13
    },
    {
     "cell_type": "code",
     "collapsed": false,
     "input": [
      "%pylab inline --no-import-all\n",
      "\n",
      "#import numpy as np\n",
      "#import matplotlib.pyplot as plt"
     ],
     "language": "python",
     "metadata": {},
     "outputs": [
      {
       "output_type": "stream",
       "stream": "stdout",
       "text": [
        "Populating the interactive namespace from numpy and matplotlib\n"
       ]
      }
     ],
     "prompt_number": 14
    },
    {
     "cell_type": "code",
     "collapsed": false,
     "input": [
      "# generate a list of random numbers between 0 and 1\n",
      "px = np.random.rand(5)\n",
      "px"
     ],
     "language": "python",
     "metadata": {},
     "outputs": [
      {
       "metadata": {},
       "output_type": "pyout",
       "prompt_number": 15,
       "text": [
        "array([ 0.65661934,  0.90289786,  0.44165609,  0.1502687 ,  0.04264004])"
       ]
      }
     ],
     "prompt_number": 15
    },
    {
     "cell_type": "code",
     "collapsed": false,
     "input": [
      "# what kind of distribution?\n",
      "px = np.random.rand(1000)\n",
      "plt.hist(px)"
     ],
     "language": "python",
     "metadata": {},
     "outputs": [
      {
       "metadata": {},
       "output_type": "pyout",
       "prompt_number": 16,
       "text": [
        "(array([  91.,   91.,   91.,   81.,  100.,  112.,  127.,  100.,  112.,   95.]),\n",
        " array([ 0.00483357,  0.10425233,  0.2036711 ,  0.30308987,  0.40250863,\n",
        "         0.5019274 ,  0.60134617,  0.70076493,  0.8001837 ,  0.89960247,\n",
        "         0.99902123]),\n",
        " <a list of 10 Patch objects>)"
       ]
      },
      {
       "metadata": {},
       "output_type": "display_data",
       "png": "[encoded data removed]",
       "text": [
        "<matplotlib.figure.Figure at 0x109d01da0>"
       ]
      }
     ],
     "prompt_number": 16
    },
    {
     "cell_type": "code",
     "collapsed": false,
     "input": [
      "nb_pts = 5000\n",
      "\n",
      "px = np.random.rand(nb_pts)\n",
      "py = np.random.rand(nb_pts)\n",
      "\n",
      "plt.plot(px, py, '.')\n",
      "plt.axis('scaled')"
     ],
     "language": "python",
     "metadata": {},
     "outputs": [
      {
       "metadata": {},
       "output_type": "pyout",
       "prompt_number": 17,
       "text": [
        "(0.0, 1.0, 0.0, 1.0)"
       ]
      },
      {
       "metadata": {},
       "output_type": "display_data",
       "png": "[encoded data removed]",
       "text": [
        "<matplotlib.figure.Figure at 0x109e13d68>"
       ]
      }
     ],
     "prompt_number": 17
    },
    {
     "cell_type": "code",
     "collapsed": false,
     "input": [
      "r = np.sqrt(px**2 + py**2)\n",
      "\n",
      "wh = np.where(r <= 1.0)[0]\n",
      "\n",
      "ratio = float(len(wh))/nb_pts\n",
      "print(\"pi estimate: %5.3f\" % (ratio * 4))"
     ],
     "language": "python",
     "metadata": {},
     "outputs": [
      {
       "output_type": "stream",
       "stream": "stdout",
       "text": [
        "pi estimate: 3.153\n"
       ]
      }
     ],
     "prompt_number": 18
    },
    {
     "cell_type": "code",
     "collapsed": false,
     "input": [
      "from IPython.display import Math\n",
      "Math(\"\\pi \\sim %5.3f\" % (ratio * 4))"
     ],
     "language": "python",
     "metadata": {},
     "outputs": [
      {
       "latex": [
        "$$\\pi \\sim 3.153$$"
       ],
       "metadata": {},
       "output_type": "pyout",
       "prompt_number": 19,
       "text": [
        "<IPython.core.display.Math at 0x10939aef0>"
       ]
      }
     ],
     "prompt_number": 19
    },
    {
     "cell_type": "code",
     "collapsed": false,
     "input": [
      "plt.figure(figsize=(6,6))\n",
      "\n",
      "cx = np.linspace(0, 1, 100)\n",
      "cy = np.sqrt(1 - cx**2)\n",
      "\n",
      "plt.plot(cx, cy, 'k-', lw=2)\n",
      "\n",
      "plt.plot(px, py, '.')\n",
      "plt.plot(px[wh], py[wh], 'r.')\n",
      "\n",
      "plt.axis('scaled')"
     ],
     "language": "python",
     "metadata": {},
     "outputs": [
      {
       "metadata": {},
       "output_type": "pyout",
       "prompt_number": 20,
       "text": [
        "(0.0, 1.0, 0.0, 1.0)"
       ]
      },
      {
       "metadata": {},
       "output_type": "display_data",
       "png": "[encoded data removed]",
       "text": [
        "<matplotlib.figure.Figure at 0x109ebf550>"
       ]
      }
     ],
     "prompt_number": 20
    },
    {
     "cell_type": "markdown",
     "metadata": {},
     "source": [
      "## Beyond array math"
     ]
    },
    {
     "cell_type": "code",
     "collapsed": false,
     "input": [
      "from IPython.display import HTML\n",
      "\n",
      "url=\"http://pandas.pydata.org/\"\n",
      "HTML('<iframe src=\"%s\" width=800 height=400></iframe>' % url)"
     ],
     "language": "python",
     "metadata": {},
     "outputs": [
      {
       "html": [
        "<iframe src=\"http://pandas.pydata.org/\" width=800 height=400></iframe>"
       ],
       "metadata": {},
       "output_type": "pyout",
       "prompt_number": 21,
       "text": [
        "<IPython.core.display.HTML at 0x107f87908>"
       ]
      }
     ],
     "prompt_number": 21
    },
    {
     "cell_type": "code",
     "collapsed": false,
     "input": [
      "# list (standard Python)\n",
      "x = list(range(5))\n",
      "\n",
      "print(x)\n",
      "\n",
      "print(2 * x)"
     ],
     "language": "python",
     "metadata": {},
     "outputs": [
      {
       "output_type": "stream",
       "stream": "stdout",
       "text": [
        "[0, 1, 2, 3, 4]\n",
        "[0, 1, 2, 3, 4, 0, 1, 2, 3, 4]\n"
       ]
      }
     ],
     "prompt_number": 22
    },
    {
     "cell_type": "code",
     "collapsed": false,
     "input": [
      "# numpy array\n",
      "x = np.arange(5)\n",
      "\n",
      "print(x)\n",
      "\n",
      "print(2 * x)"
     ],
     "language": "python",
     "metadata": {},
     "outputs": [
      {
       "output_type": "stream",
       "stream": "stdout",
       "text": [
        "[0 1 2 3 4]\n",
        "[0 2 4 6 8]\n"
       ]
      }
     ],
     "prompt_number": 23
    },
    {
     "cell_type": "code",
     "collapsed": false,
     "input": [
      "import pandas as pd\n",
      "\n",
      "x = pd.Series(range(2, 7))\n",
      "\n",
      "print(x)\n",
      "print(2*x)"
     ],
     "language": "python",
     "metadata": {},
     "outputs": [
      {
       "output_type": "stream",
       "stream": "stdout",
       "text": [
        "0    2\n",
        "1    3\n",
        "2    4\n",
        "3    5\n",
        "4    6\n",
        "dtype: int64\n",
        "0     4\n",
        "1     6\n",
        "2     8\n",
        "3    10\n",
        "4    12\n",
        "dtype: int64\n"
       ]
      }
     ],
     "prompt_number": 24
    },
    {
     "cell_type": "code",
     "collapsed": false,
     "input": [
      "x = pd.Series(range(5), index=['a', 'b', 'c', 'd', 'e'])\n",
      "\n",
      "print(x)"
     ],
     "language": "python",
     "metadata": {},
     "outputs": [
      {
       "output_type": "stream",
       "stream": "stdout",
       "text": [
        "a    0\n",
        "b    1\n",
        "c    2\n",
        "d    3\n",
        "e    4\n",
        "dtype: int64\n"
       ]
      }
     ],
     "prompt_number": 25
    },
    {
     "cell_type": "code",
     "collapsed": false,
     "input": [
      "x['a':'c']"
     ],
     "language": "python",
     "metadata": {},
     "outputs": [
      {
       "metadata": {},
       "output_type": "pyout",
       "prompt_number": 26,
       "text": [
        "a    0\n",
        "b    1\n",
        "c    2\n",
        "dtype: int64"
       ]
      }
     ],
     "prompt_number": 26
    },
    {
     "cell_type": "code",
     "collapsed": false,
     "input": [
      "# index alignment\n",
      "y = pd.Series([100, 200, 300], index=['e', 'f', 'b'])\n",
      "\n",
      "x + y"
     ],
     "language": "python",
     "metadata": {},
     "outputs": [
      {
       "metadata": {},
       "output_type": "pyout",
       "prompt_number": 27,
       "text": [
        "a    NaN\n",
        "b    301\n",
        "c    NaN\n",
        "d    NaN\n",
        "e    104\n",
        "f    NaN\n",
        "dtype: float64"
       ]
      }
     ],
     "prompt_number": 27
    },
    {
     "cell_type": "code",
     "collapsed": false,
     "input": [
      "z = x + y\n",
      "z.dropna()"
     ],
     "language": "python",
     "metadata": {},
     "outputs": [
      {
       "metadata": {},
       "output_type": "pyout",
       "prompt_number": 28,
       "text": [
        "b    301\n",
        "e    104\n",
        "dtype: float64"
       ]
      }
     ],
     "prompt_number": 28
    },
    {
     "cell_type": "code",
     "collapsed": false,
     "input": [
      "# works with heterogeneuous data\n",
      "\n",
      "s1 = pd.Series([1, 2.0, 'three'], index=['a', 'b', 'c'])\n",
      "\n",
      "s2 = pd.Series([10.0, '_X', 1000], index=['b', 'c', 'a'])\n",
      "\n",
      "s1 + s2"
     ],
     "language": "python",
     "metadata": {},
     "outputs": [
      {
       "metadata": {},
       "output_type": "pyout",
       "prompt_number": 29,
       "text": [
        "a       1001\n",
        "b         12\n",
        "c    three_X\n",
        "dtype: object"
       ]
      }
     ],
     "prompt_number": 29
    },
    {
     "cell_type": "code",
     "collapsed": false,
     "input": [
      "# index filtering\n",
      "\n",
      "x = pd.Series(np.linspace(-1, 1, 10))\n",
      "print(x)"
     ],
     "language": "python",
     "metadata": {},
     "outputs": [
      {
       "output_type": "stream",
       "stream": "stdout",
       "text": [
        "0   -1.000000\n",
        "1   -0.777778\n",
        "2   -0.555556\n",
        "3   -0.333333\n",
        "4   -0.111111\n",
        "5    0.111111\n",
        "6    0.333333\n",
        "7    0.555556\n",
        "8    0.777778\n",
        "9    1.000000\n",
        "dtype: float64\n"
       ]
      }
     ],
     "prompt_number": 30
    },
    {
     "cell_type": "code",
     "collapsed": false,
     "input": [
      "x[ x >= 0 ]"
     ],
     "language": "python",
     "metadata": {},
     "outputs": [
      {
       "metadata": {},
       "output_type": "pyout",
       "prompt_number": 31,
       "text": [
        "5    0.111111\n",
        "6    0.333333\n",
        "7    0.555556\n",
        "8    0.777778\n",
        "9    1.000000\n",
        "dtype: float64"
       ]
      }
     ],
     "prompt_number": 31
    },
    {
     "cell_type": "markdown",
     "metadata": {},
     "source": [
      "## Input/Output (CSV)"
     ]
    },
    {
     "cell_type": "code",
     "collapsed": false,
     "input": [
      "# read data into a DataFrame (collection of Series)\n",
      "data = pd.read_csv(\"../data/2013-Nov_chicago-salaries.csv.gz\", compression='gzip')\n",
      "data"
     ],
     "language": "python",
     "metadata": {},
     "outputs": [
      {
       "html": [
        "<div style=\"max-height:1000px;max-width:1500px;overflow:auto;\">\n",
        "<table border=\"1\" class=\"dataframe\">\n",
        "  <thead>\n",
        "    <tr style=\"text-align: right;\">\n",
        "      <th></th>\n",
        "      <th>Name</th>\n",
        "      <th>Position Title</th>\n",
        "      <th>Department</th>\n",
        "      <th>Employee Annual Salary</th>\n",
        "    </tr>\n",
        "  </thead>\n",
        "  <tbody>\n",
        "    <tr>\n",
        "      <th>0    </th>\n",
        "      <td>          AARON,  ELVIA J</td>\n",
        "      <td>                              WATER RATE TAKER</td>\n",
        "      <td>      WATER MGMNT</td>\n",
        "      <td>  $85512.00</td>\n",
        "    </tr>\n",
        "    <tr>\n",
        "      <th>1    </th>\n",
        "      <td>        AARON,  JEFFERY M</td>\n",
        "      <td>                                POLICE OFFICER</td>\n",
        "      <td>           POLICE</td>\n",
        "      <td>  $75372.00</td>\n",
        "    </tr>\n",
        "    <tr>\n",
        "      <th>2    </th>\n",
        "      <td>      AARON,  KIMBERLEI R</td>\n",
        "      <td>                      CHIEF CONTRACT EXPEDITER</td>\n",
        "      <td> GENERAL SERVICES</td>\n",
        "      <td>  $80916.00</td>\n",
        "    </tr>\n",
        "    <tr>\n",
        "      <th>3    </th>\n",
        "      <td>      ABAD JR,  VICENTE M</td>\n",
        "      <td>                             CIVIL ENGINEER IV</td>\n",
        "      <td>      WATER MGMNT</td>\n",
        "      <td>  $99648.00</td>\n",
        "    </tr>\n",
        "    <tr>\n",
        "      <th>4    </th>\n",
        "      <td>    ABBATACOLA,  ROBERT J</td>\n",
        "      <td>                           ELECTRICAL MECHANIC</td>\n",
        "      <td>         AVIATION</td>\n",
        "      <td>  $89440.00</td>\n",
        "    </tr>\n",
        "    <tr>\n",
        "      <th>5    </th>\n",
        "      <td>    ABBATEMARCO,  JAMES J</td>\n",
        "      <td>                                   FIREFIGHTER</td>\n",
        "      <td>             FIRE</td>\n",
        "      <td>  $78012.00</td>\n",
        "    </tr>\n",
        "    <tr>\n",
        "      <th>6    </th>\n",
        "      <td>         ABBATE,  TERRY M</td>\n",
        "      <td>                                POLICE OFFICER</td>\n",
        "      <td>           POLICE</td>\n",
        "      <td>  $80724.00</td>\n",
        "    </tr>\n",
        "    <tr>\n",
        "      <th>7    </th>\n",
        "      <td>         ABBOTT,  BETTY L</td>\n",
        "      <td>                            FOSTER GRANDPARENT</td>\n",
        "      <td> FAMILY &amp; SUPPORT</td>\n",
        "      <td>   $2756.00</td>\n",
        "    </tr>\n",
        "    <tr>\n",
        "      <th>8    </th>\n",
        "      <td>        ABBOTT,  LYNISE M</td>\n",
        "      <td>                                     CLERK III</td>\n",
        "      <td>           POLICE</td>\n",
        "      <td>  $41784.00</td>\n",
        "    </tr>\n",
        "    <tr>\n",
        "      <th>9    </th>\n",
        "      <td>   ABBRUZZESE,  WILLIAM J</td>\n",
        "      <td>                        INVESTIGATOR - IPRA II</td>\n",
        "      <td>             IPRA</td>\n",
        "      <td>  $62832.00</td>\n",
        "    </tr>\n",
        "    <tr>\n",
        "      <th>10   </th>\n",
        "      <td>          ABDALLAH,  ZAID</td>\n",
        "      <td>                                POLICE OFFICER</td>\n",
        "      <td>           POLICE</td>\n",
        "      <td>  $43104.00</td>\n",
        "    </tr>\n",
        "    <tr>\n",
        "      <th>11   </th>\n",
        "      <td>    ABDELHADI,  ABDALMAHD</td>\n",
        "      <td>                                POLICE OFFICER</td>\n",
        "      <td>           POLICE</td>\n",
        "      <td>  $75372.00</td>\n",
        "    </tr>\n",
        "    <tr>\n",
        "      <th>12   </th>\n",
        "      <td>      ABDELLATIF,  AREF R</td>\n",
        "      <td> FIREFIGHTER (PER ARBITRATORS AWARD)-PARAMEDIC</td>\n",
        "      <td>             FIRE</td>\n",
        "      <td>  $87792.00</td>\n",
        "    </tr>\n",
        "    <tr>\n",
        "      <th>13   </th>\n",
        "      <td>       ABDELMAJEID,  AZIZ</td>\n",
        "      <td>                                POLICE OFFICER</td>\n",
        "      <td>           POLICE</td>\n",
        "      <td>  $75372.00</td>\n",
        "    </tr>\n",
        "    <tr>\n",
        "      <th>14   </th>\n",
        "      <td>       ABDELQAWI,  YOSEPH</td>\n",
        "      <td>                   TRAFFIC CONTROL AIDE-HOURLY</td>\n",
        "      <td>             OEMC</td>\n",
        "      <td>  $19167.20</td>\n",
        "    </tr>\n",
        "    <tr>\n",
        "      <th>15   </th>\n",
        "      <td>      ABDOLLAHZADEH,  ALI</td>\n",
        "      <td>                                     PARAMEDIC</td>\n",
        "      <td>             FIRE</td>\n",
        "      <td>  $75372.00</td>\n",
        "    </tr>\n",
        "    <tr>\n",
        "      <th>16   </th>\n",
        "      <td> ABDUL-KARIM,  MUHAMMAD A</td>\n",
        "      <td>                     ENGINEERING TECHNICIAN VI</td>\n",
        "      <td>      WATER MGMNT</td>\n",
        "      <td>  $96384.00</td>\n",
        "    </tr>\n",
        "    <tr>\n",
        "      <th>17   </th>\n",
        "      <td>         ABDULLAH,  ASKIA</td>\n",
        "      <td>                              LEGISLATIVE AIDE</td>\n",
        "      <td>     CITY COUNCIL</td>\n",
        "      <td>  $25008.00</td>\n",
        "    </tr>\n",
        "    <tr>\n",
        "      <th>18   </th>\n",
        "      <td>      ABDULLAH,  DANIEL N</td>\n",
        "      <td>                               FIREFIGHTER-EMT</td>\n",
        "      <td>             FIRE</td>\n",
        "      <td>  $81906.00</td>\n",
        "    </tr>\n",
        "    <tr>\n",
        "      <th>19   </th>\n",
        "      <td>         ABDULLAH,  KEVIN</td>\n",
        "      <td>                                    LIEUTENANT</td>\n",
        "      <td>             FIRE</td>\n",
        "      <td> $102978.00</td>\n",
        "    </tr>\n",
        "    <tr>\n",
        "      <th>20   </th>\n",
        "      <td>     ABDULLAH,  LAKENYA N</td>\n",
        "      <td>                                CROSSING GUARD</td>\n",
        "      <td>           POLICE</td>\n",
        "      <td>  $16286.40</td>\n",
        "    </tr>\n",
        "    <tr>\n",
        "      <th>21   </th>\n",
        "      <td>      ABDULLAH,  RASHAD J</td>\n",
        "      <td>       ELECTRICAL MECHANIC-AUTO-POLICE MTR MNT</td>\n",
        "      <td> GENERAL SERVICES</td>\n",
        "      <td>  $89440.00</td>\n",
        "    </tr>\n",
        "    <tr>\n",
        "      <th>22   </th>\n",
        "      <td>        ABEJERO,  JASON V</td>\n",
        "      <td>                                POLICE OFFICER</td>\n",
        "      <td>           POLICE</td>\n",
        "      <td>  $78012.00</td>\n",
        "    </tr>\n",
        "    <tr>\n",
        "      <th>23   </th>\n",
        "      <td>        ABELS,  KENNETH L</td>\n",
        "      <td>                          ASST TO THE ALDERMAN</td>\n",
        "      <td>     CITY COUNCIL</td>\n",
        "      <td>  $52008.00</td>\n",
        "    </tr>\n",
        "    <tr>\n",
        "      <th>24   </th>\n",
        "      <td>    ABERCROMBIE,  TIMOTHY</td>\n",
        "      <td>                            MOTOR TRUCK DRIVER</td>\n",
        "      <td>    STREETS &amp; SAN</td>\n",
        "      <td>  $70408.00</td>\n",
        "    </tr>\n",
        "    <tr>\n",
        "      <th>25   </th>\n",
        "      <td>   ABOUELKHEIR,  HASSAN A</td>\n",
        "      <td>                     SENIOR PROGRAMMER/ANALYST</td>\n",
        "      <td> FAMILY &amp; SUPPORT</td>\n",
        "      <td>  $99648.00</td>\n",
        "    </tr>\n",
        "    <tr>\n",
        "      <th>26   </th>\n",
        "      <td>       ABRAHAM,  GIRLEY T</td>\n",
        "      <td>                             CIVIL ENGINEER IV</td>\n",
        "      <td>      WATER MGMNT</td>\n",
        "      <td>  $99648.00</td>\n",
        "    </tr>\n",
        "    <tr>\n",
        "      <th>27   </th>\n",
        "      <td>       ABRAHAM,  GODWIN K</td>\n",
        "      <td>                      ENGINEERING TECHNICIAN V</td>\n",
        "      <td> BUSINESS AFFAIRS</td>\n",
        "      <td>  $91980.00</td>\n",
        "    </tr>\n",
        "    <tr>\n",
        "      <th>28   </th>\n",
        "      <td>    ABRAMAVICIUS,  ANNA A</td>\n",
        "      <td>              SUPERVISING TRAFFIC CONTROL AIDE</td>\n",
        "      <td>             OEMC</td>\n",
        "      <td>  $54432.00</td>\n",
        "    </tr>\n",
        "    <tr>\n",
        "      <th>29   </th>\n",
        "      <td>      ABRAMS,  DANIELLE T</td>\n",
        "      <td>                            SANITATION LABORER</td>\n",
        "      <td>    STREETS &amp; SAN</td>\n",
        "      <td>  $69576.00</td>\n",
        "    </tr>\n",
        "    <tr>\n",
        "      <th>...</th>\n",
        "      <td>...</td>\n",
        "      <td>...</td>\n",
        "      <td>...</td>\n",
        "      <td>...</td>\n",
        "    </tr>\n",
        "    <tr>\n",
        "      <th>29335</th>\n",
        "      <td>      ZUNICH,  JONATHAN G</td>\n",
        "      <td>                            SANITATION LABORER</td>\n",
        "      <td>    STREETS &amp; SAN</td>\n",
        "      <td>  $69576.00</td>\n",
        "    </tr>\n",
        "    <tr>\n",
        "      <th>29336</th>\n",
        "      <td>        ZUNIGA JR,  JAMES</td>\n",
        "      <td>                              GARAGE ATTENDANT</td>\n",
        "      <td> GENERAL SERVICES</td>\n",
        "      <td>  $44782.40</td>\n",
        "    </tr>\n",
        "    <tr>\n",
        "      <th>29337</th>\n",
        "      <td>          ZUNIGA,  JUAN M</td>\n",
        "      <td>                                POLICE OFFICER</td>\n",
        "      <td>           POLICE</td>\n",
        "      <td>  $78012.00</td>\n",
        "    </tr>\n",
        "    <tr>\n",
        "      <th>29338</th>\n",
        "      <td>          ZUNIGA,  JURDON</td>\n",
        "      <td>                                POLICE OFFICER</td>\n",
        "      <td>           POLICE</td>\n",
        "      <td>  $43104.00</td>\n",
        "    </tr>\n",
        "    <tr>\n",
        "      <th>29339</th>\n",
        "      <td>           ZUNIGA,  OSCAR</td>\n",
        "      <td>                                POLICE OFFICER</td>\n",
        "      <td>           POLICE</td>\n",
        "      <td>  $43104.00</td>\n",
        "    </tr>\n",
        "    <tr>\n",
        "      <th>29340</th>\n",
        "      <td>          ZUNIGA,  RONALD</td>\n",
        "      <td>                                POLICE OFFICER</td>\n",
        "      <td>           POLICE</td>\n",
        "      <td>  $78012.00</td>\n",
        "    </tr>\n",
        "    <tr>\n",
        "      <th>29341</th>\n",
        "      <td>          ZUNIGA,  THOMAS</td>\n",
        "      <td>                         GENERAL LABORER - DSS</td>\n",
        "      <td>    STREETS &amp; SAN</td>\n",
        "      <td>  $40560.00</td>\n",
        "    </tr>\n",
        "    <tr>\n",
        "      <th>29342</th>\n",
        "      <td>         ZUNIGA,  VICENTE</td>\n",
        "      <td>                               FIREFIGHTER-EMT</td>\n",
        "      <td>             FIRE</td>\n",
        "      <td>  $79140.00</td>\n",
        "    </tr>\n",
        "    <tr>\n",
        "      <th>29343</th>\n",
        "      <td>              ZUNO,  ERIK</td>\n",
        "      <td>                          LABORER - APPRENTICE</td>\n",
        "      <td>      WATER MGMNT</td>\n",
        "      <td>  $46176.00</td>\n",
        "    </tr>\n",
        "    <tr>\n",
        "      <th>29344</th>\n",
        "      <td>           ZUPAN,  BILL M</td>\n",
        "      <td>                                LIEUTENANT-EMT</td>\n",
        "      <td>             FIRE</td>\n",
        "      <td>  $98394.00</td>\n",
        "    </tr>\n",
        "    <tr>\n",
        "      <th>29345</th>\n",
        "      <td>       ZUPAN,  VICTORIA J</td>\n",
        "      <td>                                POLICE OFFICER</td>\n",
        "      <td>           POLICE</td>\n",
        "      <td>  $75372.00</td>\n",
        "    </tr>\n",
        "    <tr>\n",
        "      <th>29346</th>\n",
        "      <td>       ZURAWSKI,  CAROL A</td>\n",
        "      <td>                                CROSSING GUARD</td>\n",
        "      <td>           POLICE</td>\n",
        "      <td>  $20560.80</td>\n",
        "    </tr>\n",
        "    <tr>\n",
        "      <th>29347</th>\n",
        "      <td>       ZURAWSKI,  JEFFREY</td>\n",
        "      <td>                FRM OF MACHINISTS - AUTOMOTIVE</td>\n",
        "      <td> GENERAL SERVICES</td>\n",
        "      <td>  $96553.60</td>\n",
        "    </tr>\n",
        "    <tr>\n",
        "      <th>29348</th>\n",
        "      <td>         ZURAWSKI,  MAC Z</td>\n",
        "      <td>                            SANITATION LABORER</td>\n",
        "      <td>    STREETS &amp; SAN</td>\n",
        "      <td>  $69576.00</td>\n",
        "    </tr>\n",
        "    <tr>\n",
        "      <th>29349</th>\n",
        "      <td>        ZURAWSKI,  MARY E</td>\n",
        "      <td>                                POLICE OFFICER</td>\n",
        "      <td>           POLICE</td>\n",
        "      <td>  $83706.00</td>\n",
        "    </tr>\n",
        "    <tr>\n",
        "      <th>29350</th>\n",
        "      <td>          ZUREK,  FRANCIS</td>\n",
        "      <td>                           ELECTRICAL MECHANIC</td>\n",
        "      <td>             OEMC</td>\n",
        "      <td>  $89440.00</td>\n",
        "    </tr>\n",
        "    <tr>\n",
        "      <th>29351</th>\n",
        "      <td>            ZUREK,  HENRY</td>\n",
        "      <td>                          CONSTRUCTION LABORER</td>\n",
        "      <td>      WATER MGMNT</td>\n",
        "      <td>  $76960.00</td>\n",
        "    </tr>\n",
        "    <tr>\n",
        "      <th>29352</th>\n",
        "      <td>          ZVANJA,  TINA M</td>\n",
        "      <td>                               LEGAL SECRETARY</td>\n",
        "      <td>              LAW</td>\n",
        "      <td>  $66492.00</td>\n",
        "    </tr>\n",
        "    <tr>\n",
        "      <th>29353</th>\n",
        "      <td>   ZWARYCZ MANN,  IRENE A</td>\n",
        "      <td>                                CROSSING GUARD</td>\n",
        "      <td>           POLICE</td>\n",
        "      <td>  $16286.40</td>\n",
        "    </tr>\n",
        "    <tr>\n",
        "      <th>29354</th>\n",
        "      <td>       ZWARYCZ,  THOMAS J</td>\n",
        "      <td>                       POOL MOTOR TRUCK DRIVER</td>\n",
        "      <td>       TRANSPORTN</td>\n",
        "      <td>  $70408.00</td>\n",
        "    </tr>\n",
        "    <tr>\n",
        "      <th>29355</th>\n",
        "      <td>       ZWIESLER,  MATTHEW</td>\n",
        "      <td>                   AIRPORT OPERATIONS SUPVSR I</td>\n",
        "      <td>         AVIATION</td>\n",
        "      <td>  $67128.00</td>\n",
        "    </tr>\n",
        "    <tr>\n",
        "      <th>29356</th>\n",
        "      <td>         ZWIT,  JEFFREY J</td>\n",
        "      <td>                                POLICE OFFICER</td>\n",
        "      <td>           POLICE</td>\n",
        "      <td>  $78012.00</td>\n",
        "    </tr>\n",
        "    <tr>\n",
        "      <th>29357</th>\n",
        "      <td>      ZWOLFER,  MATTHEW W</td>\n",
        "      <td>                               FIREFIGHTER-EMT</td>\n",
        "      <td>             FIRE</td>\n",
        "      <td>  $81906.00</td>\n",
        "    </tr>\n",
        "    <tr>\n",
        "      <th>29358</th>\n",
        "      <td>         ZWOLSKI,  MARY L</td>\n",
        "      <td>                                POLICE OFFICER</td>\n",
        "      <td>           POLICE</td>\n",
        "      <td>  $80724.00</td>\n",
        "    </tr>\n",
        "    <tr>\n",
        "      <th>29359</th>\n",
        "      <td>            ZYDEK,  BRYAN</td>\n",
        "      <td>                                POLICE OFFICER</td>\n",
        "      <td>           POLICE</td>\n",
        "      <td>  $75372.00</td>\n",
        "    </tr>\n",
        "    <tr>\n",
        "      <th>29360</th>\n",
        "      <td>         ZYGADLO,  JOHN P</td>\n",
        "      <td>                        MACHINIST (AUTOMOTIVE)</td>\n",
        "      <td> GENERAL SERVICES</td>\n",
        "      <td>  $91353.60</td>\n",
        "    </tr>\n",
        "    <tr>\n",
        "      <th>29361</th>\n",
        "      <td>      ZYGADLO,  MICHAEL J</td>\n",
        "      <td>                FRM OF MACHINISTS - AUTOMOTIVE</td>\n",
        "      <td> GENERAL SERVICES</td>\n",
        "      <td>  $96553.60</td>\n",
        "    </tr>\n",
        "    <tr>\n",
        "      <th>29362</th>\n",
        "      <td>       ZYGOWICZ,  PETER J</td>\n",
        "      <td>                                POLICE OFFICER</td>\n",
        "      <td>           POLICE</td>\n",
        "      <td>  $78012.00</td>\n",
        "    </tr>\n",
        "    <tr>\n",
        "      <th>29363</th>\n",
        "      <td>        ZYMANTAS,  MARK E</td>\n",
        "      <td>                                POLICE OFFICER</td>\n",
        "      <td>           POLICE</td>\n",
        "      <td>  $78012.00</td>\n",
        "    </tr>\n",
        "    <tr>\n",
        "      <th>29364</th>\n",
        "      <td>      ZYRKOWSKI,  CARLO E</td>\n",
        "      <td>                                POLICE OFFICER</td>\n",
        "      <td>           POLICE</td>\n",
        "      <td>  $80724.00</td>\n",
        "    </tr>\n",
        "  </tbody>\n",
        "</table>\n",
        "<p>29365 rows \u00d7 4 columns</p>\n",
        "</div>"
       ],
       "metadata": {},
       "output_type": "pyout",
       "prompt_number": 32,
       "text": [
        "                           Name  \\\n",
        "0               AARON,  ELVIA J   \n",
        "1             AARON,  JEFFERY M   \n",
        "2           AARON,  KIMBERLEI R   \n",
        "3           ABAD JR,  VICENTE M   \n",
        "4         ABBATACOLA,  ROBERT J   \n",
        "5         ABBATEMARCO,  JAMES J   \n",
        "6              ABBATE,  TERRY M   \n",
        "7              ABBOTT,  BETTY L   \n",
        "8             ABBOTT,  LYNISE M   \n",
        "9        ABBRUZZESE,  WILLIAM J   \n",
        "10              ABDALLAH,  ZAID   \n",
        "11        ABDELHADI,  ABDALMAHD   \n",
        "12          ABDELLATIF,  AREF R   \n",
        "13           ABDELMAJEID,  AZIZ   \n",
        "14           ABDELQAWI,  YOSEPH   \n",
        "15          ABDOLLAHZADEH,  ALI   \n",
        "16     ABDUL-KARIM,  MUHAMMAD A   \n",
        "17             ABDULLAH,  ASKIA   \n",
        "18          ABDULLAH,  DANIEL N   \n",
        "19             ABDULLAH,  KEVIN   \n",
        "20         ABDULLAH,  LAKENYA N   \n",
        "21          ABDULLAH,  RASHAD J   \n",
        "22            ABEJERO,  JASON V   \n",
        "23            ABELS,  KENNETH L   \n",
        "24        ABERCROMBIE,  TIMOTHY   \n",
        "25       ABOUELKHEIR,  HASSAN A   \n",
        "26           ABRAHAM,  GIRLEY T   \n",
        "27           ABRAHAM,  GODWIN K   \n",
        "28        ABRAMAVICIUS,  ANNA A   \n",
        "29          ABRAMS,  DANIELLE T   \n",
        "...                         ...   \n",
        "29335       ZUNICH,  JONATHAN G   \n",
        "29336         ZUNIGA JR,  JAMES   \n",
        "29337           ZUNIGA,  JUAN M   \n",
        "29338           ZUNIGA,  JURDON   \n",
        "29339            ZUNIGA,  OSCAR   \n",
        "29340           ZUNIGA,  RONALD   \n",
        "29341           ZUNIGA,  THOMAS   \n",
        "29342          ZUNIGA,  VICENTE   \n",
        "29343               ZUNO,  ERIK   \n",
        "29344            ZUPAN,  BILL M   \n",
        "29345        ZUPAN,  VICTORIA J   \n",
        "29346        ZURAWSKI,  CAROL A   \n",
        "29347        ZURAWSKI,  JEFFREY   \n",
        "29348          ZURAWSKI,  MAC Z   \n",
        "29349         ZURAWSKI,  MARY E   \n",
        "29350           ZUREK,  FRANCIS   \n",
        "29351             ZUREK,  HENRY   \n",
        "29352           ZVANJA,  TINA M   \n",
        "29353    ZWARYCZ MANN,  IRENE A   \n",
        "29354        ZWARYCZ,  THOMAS J   \n",
        "29355        ZWIESLER,  MATTHEW   \n",
        "29356          ZWIT,  JEFFREY J   \n",
        "29357       ZWOLFER,  MATTHEW W   \n",
        "29358          ZWOLSKI,  MARY L   \n",
        "29359             ZYDEK,  BRYAN   \n",
        "29360          ZYGADLO,  JOHN P   \n",
        "29361       ZYGADLO,  MICHAEL J   \n",
        "29362        ZYGOWICZ,  PETER J   \n",
        "29363         ZYMANTAS,  MARK E   \n",
        "29364       ZYRKOWSKI,  CARLO E   \n",
        "\n",
        "                                      Position Title        Department  \\\n",
        "0                                   WATER RATE TAKER       WATER MGMNT   \n",
        "1                                     POLICE OFFICER            POLICE   \n",
        "2                           CHIEF CONTRACT EXPEDITER  GENERAL SERVICES   \n",
        "3                                  CIVIL ENGINEER IV       WATER MGMNT   \n",
        "4                                ELECTRICAL MECHANIC          AVIATION   \n",
        "5                                        FIREFIGHTER              FIRE   \n",
        "6                                     POLICE OFFICER            POLICE   \n",
        "7                                 FOSTER GRANDPARENT  FAMILY & SUPPORT   \n",
        "8                                          CLERK III            POLICE   \n",
        "9                             INVESTIGATOR - IPRA II              IPRA   \n",
        "10                                    POLICE OFFICER            POLICE   \n",
        "11                                    POLICE OFFICER            POLICE   \n",
        "12     FIREFIGHTER (PER ARBITRATORS AWARD)-PARAMEDIC              FIRE   \n",
        "13                                    POLICE OFFICER            POLICE   \n",
        "14                       TRAFFIC CONTROL AIDE-HOURLY              OEMC   \n",
        "15                                         PARAMEDIC              FIRE   \n",
        "16                         ENGINEERING TECHNICIAN VI       WATER MGMNT   \n",
        "17                                  LEGISLATIVE AIDE      CITY COUNCIL   \n",
        "18                                   FIREFIGHTER-EMT              FIRE   \n",
        "19                                        LIEUTENANT              FIRE   \n",
        "20                                    CROSSING GUARD            POLICE   \n",
        "21           ELECTRICAL MECHANIC-AUTO-POLICE MTR MNT  GENERAL SERVICES   \n",
        "22                                    POLICE OFFICER            POLICE   \n",
        "23                              ASST TO THE ALDERMAN      CITY COUNCIL   \n",
        "24                                MOTOR TRUCK DRIVER     STREETS & SAN   \n",
        "25                         SENIOR PROGRAMMER/ANALYST  FAMILY & SUPPORT   \n",
        "26                                 CIVIL ENGINEER IV       WATER MGMNT   \n",
        "27                          ENGINEERING TECHNICIAN V  BUSINESS AFFAIRS   \n",
        "28                  SUPERVISING TRAFFIC CONTROL AIDE              OEMC   \n",
        "29                                SANITATION LABORER     STREETS & SAN   \n",
        "...                                              ...               ...   \n",
        "29335                             SANITATION LABORER     STREETS & SAN   \n",
        "29336                               GARAGE ATTENDANT  GENERAL SERVICES   \n",
        "29337                                 POLICE OFFICER            POLICE   \n",
        "29338                                 POLICE OFFICER            POLICE   \n",
        "29339                                 POLICE OFFICER            POLICE   \n",
        "29340                                 POLICE OFFICER            POLICE   \n",
        "29341                          GENERAL LABORER - DSS     STREETS & SAN   \n",
        "29342                                FIREFIGHTER-EMT              FIRE   \n",
        "29343                           LABORER - APPRENTICE       WATER MGMNT   \n",
        "29344                                 LIEUTENANT-EMT              FIRE   \n",
        "29345                                 POLICE OFFICER            POLICE   \n",
        "29346                                 CROSSING GUARD            POLICE   \n",
        "29347                 FRM OF MACHINISTS - AUTOMOTIVE  GENERAL SERVICES   \n",
        "29348                             SANITATION LABORER     STREETS & SAN   \n",
        "29349                                 POLICE OFFICER            POLICE   \n",
        "29350                            ELECTRICAL MECHANIC              OEMC   \n",
        "29351                           CONSTRUCTION LABORER       WATER MGMNT   \n",
        "29352                                LEGAL SECRETARY               LAW   \n",
        "29353                                 CROSSING GUARD            POLICE   \n",
        "29354                        POOL MOTOR TRUCK DRIVER        TRANSPORTN   \n",
        "29355                    AIRPORT OPERATIONS SUPVSR I          AVIATION   \n",
        "29356                                 POLICE OFFICER            POLICE   \n",
        "29357                                FIREFIGHTER-EMT              FIRE   \n",
        "29358                                 POLICE OFFICER            POLICE   \n",
        "29359                                 POLICE OFFICER            POLICE   \n",
        "29360                         MACHINIST (AUTOMOTIVE)  GENERAL SERVICES   \n",
        "29361                 FRM OF MACHINISTS - AUTOMOTIVE  GENERAL SERVICES   \n",
        "29362                                 POLICE OFFICER            POLICE   \n",
        "29363                                 POLICE OFFICER            POLICE   \n",
        "29364                                 POLICE OFFICER            POLICE   \n",
        "\n",
        "      Employee Annual Salary  \n",
        "0                  $85512.00  \n",
        "1                  $75372.00  \n",
        "2                  $80916.00  \n",
        "3                  $99648.00  \n",
        "4                  $89440.00  \n",
        "5                  $78012.00  \n",
        "6                  $80724.00  \n",
        "7                   $2756.00  \n",
        "8                  $41784.00  \n",
        "9                  $62832.00  \n",
        "10                 $43104.00  \n",
        "11                 $75372.00  \n",
        "12                 $87792.00  \n",
        "13                 $75372.00  \n",
        "14                 $19167.20  \n",
        "15                 $75372.00  \n",
        "16                 $96384.00  \n",
        "17                 $25008.00  \n",
        "18                 $81906.00  \n",
        "19                $102978.00  \n",
        "20                 $16286.40  \n",
        "21                 $89440.00  \n",
        "22                 $78012.00  \n",
        "23                 $52008.00  \n",
        "24                 $70408.00  \n",
        "25                 $99648.00  \n",
        "26                 $99648.00  \n",
        "27                 $91980.00  \n",
        "28                 $54432.00  \n",
        "29                 $69576.00  \n",
        "...                      ...  \n",
        "29335              $69576.00  \n",
        "29336              $44782.40  \n",
        "29337              $78012.00  \n",
        "29338              $43104.00  \n",
        "29339              $43104.00  \n",
        "29340              $78012.00  \n",
        "29341              $40560.00  \n",
        "29342              $79140.00  \n",
        "29343              $46176.00  \n",
        "29344              $98394.00  \n",
        "29345              $75372.00  \n",
        "29346              $20560.80  \n",
        "29347              $96553.60  \n",
        "29348              $69576.00  \n",
        "29349              $83706.00  \n",
        "29350              $89440.00  \n",
        "29351              $76960.00  \n",
        "29352              $66492.00  \n",
        "29353              $16286.40  \n",
        "29354              $70408.00  \n",
        "29355              $67128.00  \n",
        "29356              $78012.00  \n",
        "29357              $81906.00  \n",
        "29358              $80724.00  \n",
        "29359              $75372.00  \n",
        "29360              $91353.60  \n",
        "29361              $96553.60  \n",
        "29362              $78012.00  \n",
        "29363              $78012.00  \n",
        "29364              $80724.00  \n",
        "\n",
        "[29365 rows x 4 columns]"
       ]
      }
     ],
     "prompt_number": 32
    },
    {
     "cell_type": "code",
     "collapsed": false,
     "input": [
      "data.head(3)"
     ],
     "language": "python",
     "metadata": {},
     "outputs": [
      {
       "html": [
        "<div style=\"max-height:1000px;max-width:1500px;overflow:auto;\">\n",
        "<table border=\"1\" class=\"dataframe\">\n",
        "  <thead>\n",
        "    <tr style=\"text-align: right;\">\n",
        "      <th></th>\n",
        "      <th>Name</th>\n",
        "      <th>Position Title</th>\n",
        "      <th>Department</th>\n",
        "      <th>Employee Annual Salary</th>\n",
        "    </tr>\n",
        "  </thead>\n",
        "  <tbody>\n",
        "    <tr>\n",
        "      <th>0</th>\n",
        "      <td>     AARON,  ELVIA J</td>\n",
        "      <td>         WATER RATE TAKER</td>\n",
        "      <td>      WATER MGMNT</td>\n",
        "      <td> $85512.00</td>\n",
        "    </tr>\n",
        "    <tr>\n",
        "      <th>1</th>\n",
        "      <td>   AARON,  JEFFERY M</td>\n",
        "      <td>           POLICE OFFICER</td>\n",
        "      <td>           POLICE</td>\n",
        "      <td> $75372.00</td>\n",
        "    </tr>\n",
        "    <tr>\n",
        "      <th>2</th>\n",
        "      <td> AARON,  KIMBERLEI R</td>\n",
        "      <td> CHIEF CONTRACT EXPEDITER</td>\n",
        "      <td> GENERAL SERVICES</td>\n",
        "      <td> $80916.00</td>\n",
        "    </tr>\n",
        "  </tbody>\n",
        "</table>\n",
        "</div>"
       ],
       "metadata": {},
       "output_type": "pyout",
       "prompt_number": 33,
       "text": [
        "                  Name            Position Title        Department  \\\n",
        "0      AARON,  ELVIA J          WATER RATE TAKER       WATER MGMNT   \n",
        "1    AARON,  JEFFERY M            POLICE OFFICER            POLICE   \n",
        "2  AARON,  KIMBERLEI R  CHIEF CONTRACT EXPEDITER  GENERAL SERVICES   \n",
        "\n",
        "  Employee Annual Salary  \n",
        "0              $85512.00  \n",
        "1              $75372.00  \n",
        "2              $80916.00  "
       ]
      }
     ],
     "prompt_number": 33
    },
    {
     "cell_type": "code",
     "collapsed": false,
     "input": [
      "data['Name'][:5]"
     ],
     "language": "python",
     "metadata": {},
     "outputs": [
      {
       "metadata": {},
       "output_type": "pyout",
       "prompt_number": 34,
       "text": [
        "0          AARON,  ELVIA J\n",
        "1        AARON,  JEFFERY M\n",
        "2      AARON,  KIMBERLEI R\n",
        "3      ABAD JR,  VICENTE M\n",
        "4    ABBATACOLA,  ROBERT J\n",
        "Name: Name, dtype: object"
       ]
      }
     ],
     "prompt_number": 34
    },
    {
     "cell_type": "code",
     "collapsed": false,
     "input": [
      "data['Employee Annual Salary'].max()"
     ],
     "language": "python",
     "metadata": {},
     "outputs": [
      {
       "metadata": {},
       "output_type": "pyout",
       "prompt_number": 35,
       "text": [
        "'$99996.00'"
       ]
      }
     ],
     "prompt_number": 35
    },
    {
     "cell_type": "markdown",
     "metadata": {},
     "source": [
      "\"problems\": column names with 'space' and non-numerical character in \"numerical\" column"
     ]
    },
    {
     "cell_type": "code",
     "collapsed": false,
     "input": [
      "# desired column names (valid identifier)\n",
      "hdr_names = ['name', 'title', 'department', 'salary']\n",
      "\n",
      "data = pd.read_csv(\"../data/2013-Nov_chicago-salaries.csv.gz\", compression='gzip', header=False, names=hdr_names, \n",
      "                  converters={\"salary\": lambda x: float(x.replace('$', ''))})"
     ],
     "language": "python",
     "metadata": {},
     "outputs": [],
     "prompt_number": 38
    },
    {
     "cell_type": "code",
     "collapsed": false,
     "input": [
      "data[['name', 'salary']][:10]"
     ],
     "language": "python",
     "metadata": {},
     "outputs": [
      {
       "html": [
        "<div style=\"max-height:1000px;max-width:1500px;overflow:auto;\">\n",
        "<table border=\"1\" class=\"dataframe\">\n",
        "  <thead>\n",
        "    <tr style=\"text-align: right;\">\n",
        "      <th></th>\n",
        "      <th>name</th>\n",
        "      <th>salary</th>\n",
        "    </tr>\n",
        "  </thead>\n",
        "  <tbody>\n",
        "    <tr>\n",
        "      <th>0</th>\n",
        "      <td>        AARON,  ELVIA J</td>\n",
        "      <td> 85512</td>\n",
        "    </tr>\n",
        "    <tr>\n",
        "      <th>1</th>\n",
        "      <td>      AARON,  JEFFERY M</td>\n",
        "      <td> 75372</td>\n",
        "    </tr>\n",
        "    <tr>\n",
        "      <th>2</th>\n",
        "      <td>    AARON,  KIMBERLEI R</td>\n",
        "      <td> 80916</td>\n",
        "    </tr>\n",
        "    <tr>\n",
        "      <th>3</th>\n",
        "      <td>    ABAD JR,  VICENTE M</td>\n",
        "      <td> 99648</td>\n",
        "    </tr>\n",
        "    <tr>\n",
        "      <th>4</th>\n",
        "      <td>  ABBATACOLA,  ROBERT J</td>\n",
        "      <td> 89440</td>\n",
        "    </tr>\n",
        "    <tr>\n",
        "      <th>5</th>\n",
        "      <td>  ABBATEMARCO,  JAMES J</td>\n",
        "      <td> 78012</td>\n",
        "    </tr>\n",
        "    <tr>\n",
        "      <th>6</th>\n",
        "      <td>       ABBATE,  TERRY M</td>\n",
        "      <td> 80724</td>\n",
        "    </tr>\n",
        "    <tr>\n",
        "      <th>7</th>\n",
        "      <td>       ABBOTT,  BETTY L</td>\n",
        "      <td>  2756</td>\n",
        "    </tr>\n",
        "    <tr>\n",
        "      <th>8</th>\n",
        "      <td>      ABBOTT,  LYNISE M</td>\n",
        "      <td> 41784</td>\n",
        "    </tr>\n",
        "    <tr>\n",
        "      <th>9</th>\n",
        "      <td> ABBRUZZESE,  WILLIAM J</td>\n",
        "      <td> 62832</td>\n",
        "    </tr>\n",
        "  </tbody>\n",
        "</table>\n",
        "</div>"
       ],
       "metadata": {},
       "output_type": "pyout",
       "prompt_number": 39,
       "text": [
        "                     name  salary\n",
        "0         AARON,  ELVIA J   85512\n",
        "1       AARON,  JEFFERY M   75372\n",
        "2     AARON,  KIMBERLEI R   80916\n",
        "3     ABAD JR,  VICENTE M   99648\n",
        "4   ABBATACOLA,  ROBERT J   89440\n",
        "5   ABBATEMARCO,  JAMES J   78012\n",
        "6        ABBATE,  TERRY M   80724\n",
        "7        ABBOTT,  BETTY L    2756\n",
        "8       ABBOTT,  LYNISE M   41784\n",
        "9  ABBRUZZESE,  WILLIAM J   62832"
       ]
      }
     ],
     "prompt_number": 39
    },
    {
     "cell_type": "code",
     "collapsed": false,
     "input": [
      "data.head(5)"
     ],
     "language": "python",
     "metadata": {},
     "outputs": [
      {
       "html": [
        "<div style=\"max-height:1000px;max-width:1500px;overflow:auto;\">\n",
        "<table border=\"1\" class=\"dataframe\">\n",
        "  <thead>\n",
        "    <tr style=\"text-align: right;\">\n",
        "      <th></th>\n",
        "      <th>name</th>\n",
        "      <th>title</th>\n",
        "      <th>department</th>\n",
        "      <th>salary</th>\n",
        "    </tr>\n",
        "  </thead>\n",
        "  <tbody>\n",
        "    <tr>\n",
        "      <th>0</th>\n",
        "      <td>       AARON,  ELVIA J</td>\n",
        "      <td>         WATER RATE TAKER</td>\n",
        "      <td>      WATER MGMNT</td>\n",
        "      <td> 85512</td>\n",
        "    </tr>\n",
        "    <tr>\n",
        "      <th>1</th>\n",
        "      <td>     AARON,  JEFFERY M</td>\n",
        "      <td>           POLICE OFFICER</td>\n",
        "      <td>           POLICE</td>\n",
        "      <td> 75372</td>\n",
        "    </tr>\n",
        "    <tr>\n",
        "      <th>2</th>\n",
        "      <td>   AARON,  KIMBERLEI R</td>\n",
        "      <td> CHIEF CONTRACT EXPEDITER</td>\n",
        "      <td> GENERAL SERVICES</td>\n",
        "      <td> 80916</td>\n",
        "    </tr>\n",
        "    <tr>\n",
        "      <th>3</th>\n",
        "      <td>   ABAD JR,  VICENTE M</td>\n",
        "      <td>        CIVIL ENGINEER IV</td>\n",
        "      <td>      WATER MGMNT</td>\n",
        "      <td> 99648</td>\n",
        "    </tr>\n",
        "    <tr>\n",
        "      <th>4</th>\n",
        "      <td> ABBATACOLA,  ROBERT J</td>\n",
        "      <td>      ELECTRICAL MECHANIC</td>\n",
        "      <td>         AVIATION</td>\n",
        "      <td> 89440</td>\n",
        "    </tr>\n",
        "  </tbody>\n",
        "</table>\n",
        "</div>"
       ],
       "metadata": {},
       "output_type": "pyout",
       "prompt_number": 40,
       "text": [
        "                    name                     title        department  salary\n",
        "0        AARON,  ELVIA J          WATER RATE TAKER       WATER MGMNT   85512\n",
        "1      AARON,  JEFFERY M            POLICE OFFICER            POLICE   75372\n",
        "2    AARON,  KIMBERLEI R  CHIEF CONTRACT EXPEDITER  GENERAL SERVICES   80916\n",
        "3    ABAD JR,  VICENTE M         CIVIL ENGINEER IV       WATER MGMNT   99648\n",
        "4  ABBATACOLA,  ROBERT J       ELECTRICAL MECHANIC          AVIATION   89440"
       ]
      }
     ],
     "prompt_number": 40
    },
    {
     "cell_type": "code",
     "collapsed": false,
     "input": [
      "type(data['salary'])"
     ],
     "language": "python",
     "metadata": {},
     "outputs": [
      {
       "metadata": {},
       "output_type": "pyout",
       "prompt_number": 41,
       "text": [
        "pandas.core.series.Series"
       ]
      }
     ],
     "prompt_number": 41
    },
    {
     "cell_type": "code",
     "collapsed": false,
     "input": [
      "data.salary.min(), data.salary.max()"
     ],
     "language": "python",
     "metadata": {},
     "outputs": [
      {
       "metadata": {},
       "output_type": "pyout",
       "prompt_number": 42,
       "text": [
        "(0.95999999999999996, 260004.0)"
       ]
      }
     ],
     "prompt_number": 42
    },
    {
     "cell_type": "code",
     "collapsed": false,
     "input": [
      "data[ data.salary < 10 ]"
     ],
     "language": "python",
     "metadata": {},
     "outputs": [
      {
       "html": [
        "<div style=\"max-height:1000px;max-width:1500px;overflow:auto;\">\n",
        "<table border=\"1\" class=\"dataframe\">\n",
        "  <thead>\n",
        "    <tr style=\"text-align: right;\">\n",
        "      <th></th>\n",
        "      <th>name</th>\n",
        "      <th>title</th>\n",
        "      <th>department</th>\n",
        "      <th>salary</th>\n",
        "    </tr>\n",
        "  </thead>\n",
        "  <tbody>\n",
        "    <tr>\n",
        "      <th>13845</th>\n",
        "      <td> KOCH,  STEVEN</td>\n",
        "      <td> ADMINISTRATIVE SECRETARY</td>\n",
        "      <td> MAYOR'S OFFICE</td>\n",
        "      <td> 0.96</td>\n",
        "    </tr>\n",
        "  </tbody>\n",
        "</table>\n",
        "</div>"
       ],
       "metadata": {},
       "output_type": "pyout",
       "prompt_number": 43,
       "text": [
        "                name                     title      department  salary\n",
        "13845  KOCH,  STEVEN  ADMINISTRATIVE SECRETARY  MAYOR'S OFFICE    0.96"
       ]
      }
     ],
     "prompt_number": 43
    },
    {
     "cell_type": "code",
     "collapsed": false,
     "input": [
      "data = data.drop(13845)\n",
      "data.salary.min()"
     ],
     "language": "python",
     "metadata": {},
     "outputs": [
      {
       "metadata": {},
       "output_type": "pyout",
       "prompt_number": 44,
       "text": [
        "2756.0"
       ]
      }
     ],
     "prompt_number": 44
    },
    {
     "cell_type": "code",
     "collapsed": false,
     "input": [
      "# add new column\n",
      "data['montly_salary'] = data.salary / 12\n",
      "data.head()"
     ],
     "language": "python",
     "metadata": {},
     "outputs": [
      {
       "html": [
        "<div style=\"max-height:1000px;max-width:1500px;overflow:auto;\">\n",
        "<table border=\"1\" class=\"dataframe\">\n",
        "  <thead>\n",
        "    <tr style=\"text-align: right;\">\n",
        "      <th></th>\n",
        "      <th>name</th>\n",
        "      <th>title</th>\n",
        "      <th>department</th>\n",
        "      <th>salary</th>\n",
        "      <th>montly_salary</th>\n",
        "    </tr>\n",
        "  </thead>\n",
        "  <tbody>\n",
        "    <tr>\n",
        "      <th>0</th>\n",
        "      <td>       AARON,  ELVIA J</td>\n",
        "      <td>         WATER RATE TAKER</td>\n",
        "      <td>      WATER MGMNT</td>\n",
        "      <td> 85512</td>\n",
        "      <td> 7126.000000</td>\n",
        "    </tr>\n",
        "    <tr>\n",
        "      <th>1</th>\n",
        "      <td>     AARON,  JEFFERY M</td>\n",
        "      <td>           POLICE OFFICER</td>\n",
        "      <td>           POLICE</td>\n",
        "      <td> 75372</td>\n",
        "      <td> 6281.000000</td>\n",
        "    </tr>\n",
        "    <tr>\n",
        "      <th>2</th>\n",
        "      <td>   AARON,  KIMBERLEI R</td>\n",
        "      <td> CHIEF CONTRACT EXPEDITER</td>\n",
        "      <td> GENERAL SERVICES</td>\n",
        "      <td> 80916</td>\n",
        "      <td> 6743.000000</td>\n",
        "    </tr>\n",
        "    <tr>\n",
        "      <th>3</th>\n",
        "      <td>   ABAD JR,  VICENTE M</td>\n",
        "      <td>        CIVIL ENGINEER IV</td>\n",
        "      <td>      WATER MGMNT</td>\n",
        "      <td> 99648</td>\n",
        "      <td> 8304.000000</td>\n",
        "    </tr>\n",
        "    <tr>\n",
        "      <th>4</th>\n",
        "      <td> ABBATACOLA,  ROBERT J</td>\n",
        "      <td>      ELECTRICAL MECHANIC</td>\n",
        "      <td>         AVIATION</td>\n",
        "      <td> 89440</td>\n",
        "      <td> 7453.333333</td>\n",
        "    </tr>\n",
        "  </tbody>\n",
        "</table>\n",
        "</div>"
       ],
       "metadata": {},
       "output_type": "pyout",
       "prompt_number": 45,
       "text": [
        "                    name                     title        department  salary  \\\n",
        "0        AARON,  ELVIA J          WATER RATE TAKER       WATER MGMNT   85512   \n",
        "1      AARON,  JEFFERY M            POLICE OFFICER            POLICE   75372   \n",
        "2    AARON,  KIMBERLEI R  CHIEF CONTRACT EXPEDITER  GENERAL SERVICES   80916   \n",
        "3    ABAD JR,  VICENTE M         CIVIL ENGINEER IV       WATER MGMNT   99648   \n",
        "4  ABBATACOLA,  ROBERT J       ELECTRICAL MECHANIC          AVIATION   89440   \n",
        "\n",
        "   montly_salary  \n",
        "0    7126.000000  \n",
        "1    6281.000000  \n",
        "2    6743.000000  \n",
        "3    8304.000000  \n",
        "4    7453.333333  "
       ]
      }
     ],
     "prompt_number": 45
    },
    {
     "cell_type": "code",
     "collapsed": false,
     "input": [
      "# top 5 earners\n",
      "data.sort('salary', ascending=False)[:5]"
     ],
     "language": "python",
     "metadata": {},
     "outputs": [
      {
       "html": [
        "<div style=\"max-height:1000px;max-width:1500px;overflow:auto;\">\n",
        "<table border=\"1\" class=\"dataframe\">\n",
        "  <thead>\n",
        "    <tr style=\"text-align: right;\">\n",
        "      <th></th>\n",
        "      <th>name</th>\n",
        "      <th>title</th>\n",
        "      <th>department</th>\n",
        "      <th>salary</th>\n",
        "      <th>montly_salary</th>\n",
        "    </tr>\n",
        "  </thead>\n",
        "  <tbody>\n",
        "    <tr>\n",
        "      <th>16517</th>\n",
        "      <td>   MC CARTHY,  GARRY F</td>\n",
        "      <td>       SUPERINTENDENT OF POLICE</td>\n",
        "      <td>         POLICE</td>\n",
        "      <td> 260004</td>\n",
        "      <td> 21667.0</td>\n",
        "    </tr>\n",
        "    <tr>\n",
        "      <th>7317 </th>\n",
        "      <td>        EMANUEL,  RAHM</td>\n",
        "      <td>                          MAYOR</td>\n",
        "      <td> MAYOR'S OFFICE</td>\n",
        "      <td> 216210</td>\n",
        "      <td> 18017.5</td>\n",
        "    </tr>\n",
        "    <tr>\n",
        "      <th>23445</th>\n",
        "      <td>     SANTIAGO,  JOSE A</td>\n",
        "      <td>              FIRE COMMISSIONER</td>\n",
        "      <td>           FIRE</td>\n",
        "      <td> 202728</td>\n",
        "      <td> 16894.0</td>\n",
        "    </tr>\n",
        "    <tr>\n",
        "      <th>25279</th>\n",
        "      <td> STEWART III,  CHARLES</td>\n",
        "      <td> FIRST DEPUTY FIRE COMMISSIONER</td>\n",
        "      <td>           FIRE</td>\n",
        "      <td> 188316</td>\n",
        "      <td> 15693.0</td>\n",
        "    </tr>\n",
        "    <tr>\n",
        "      <th>28942</th>\n",
        "      <td>    WYSINGER,  ALFONZA</td>\n",
        "      <td>    FIRST DEPUTY SUPERINTENDENT</td>\n",
        "      <td>         POLICE</td>\n",
        "      <td> 188316</td>\n",
        "      <td> 15693.0</td>\n",
        "    </tr>\n",
        "  </tbody>\n",
        "</table>\n",
        "</div>"
       ],
       "metadata": {},
       "output_type": "pyout",
       "prompt_number": 46,
       "text": [
        "                        name                           title      department  \\\n",
        "16517    MC CARTHY,  GARRY F        SUPERINTENDENT OF POLICE          POLICE   \n",
        "7317          EMANUEL,  RAHM                           MAYOR  MAYOR'S OFFICE   \n",
        "23445      SANTIAGO,  JOSE A               FIRE COMMISSIONER            FIRE   \n",
        "25279  STEWART III,  CHARLES  FIRST DEPUTY FIRE COMMISSIONER            FIRE   \n",
        "28942     WYSINGER,  ALFONZA     FIRST DEPUTY SUPERINTENDENT          POLICE   \n",
        "\n",
        "       salary  montly_salary  \n",
        "16517  260004        21667.0  \n",
        "7317   216210        18017.5  \n",
        "23445  202728        16894.0  \n",
        "25279  188316        15693.0  \n",
        "28942  188316        15693.0  "
       ]
      }
     ],
     "prompt_number": 46
    },
    {
     "cell_type": "code",
     "collapsed": false,
     "input": [
      "# how many make over 100K (%)\n",
      "float(len( data[data.salary > 100000] )) / len(data) * 100"
     ],
     "language": "python",
     "metadata": {},
     "outputs": [
      {
       "metadata": {},
       "output_type": "pyout",
       "prompt_number": 47,
       "text": [
        "7.686282522817055"
       ]
      }
     ],
     "prompt_number": 47
    },
    {
     "cell_type": "code",
     "collapsed": false,
     "input": [
      "len( data[ data.department == 'POLICE' ] )"
     ],
     "language": "python",
     "metadata": {},
     "outputs": [
      {
       "metadata": {},
       "output_type": "pyout",
       "prompt_number": 48,
       "text": [
        "13623"
       ]
      }
     ],
     "prompt_number": 48
    },
    {
     "cell_type": "code",
     "collapsed": false,
     "input": [
      "# categorical grouping\n",
      "by_dept = data.groupby('department')\n",
      "type(by_dept)"
     ],
     "language": "python",
     "metadata": {},
     "outputs": [
      {
       "metadata": {},
       "output_type": "pyout",
       "prompt_number": 49,
       "text": [
        "pandas.core.groupby.DataFrameGroupBy"
       ]
      }
     ],
     "prompt_number": 49
    },
    {
     "cell_type": "code",
     "collapsed": false,
     "input": [
      "by_dept.size()"
     ],
     "language": "python",
     "metadata": {},
     "outputs": [
      {
       "metadata": {},
       "output_type": "pyout",
       "prompt_number": 50,
       "text": [
        "department\n",
        "AVIATION             1218\n",
        "BUSINESS AFFAIRS      181\n",
        "CITY COUNCIL          378\n",
        "FAMILY & SUPPORT      727\n",
        "FIRE                 4731\n",
        "GENERAL SERVICES      913\n",
        "HEALTH                573\n",
        "IPRA                   85\n",
        "LAW                   450\n",
        "MAYOR'S OFFICE         98\n",
        "OEMC                 1292\n",
        "POLICE              13623\n",
        "STREETS & SAN        2070\n",
        "TRANSPORTN           1168\n",
        "WATER MGMNT          1857\n",
        "dtype: int64"
       ]
      }
     ],
     "prompt_number": 50
    },
    {
     "cell_type": "code",
     "collapsed": false,
     "input": [
      "by_dept.mean()"
     ],
     "language": "python",
     "metadata": {},
     "outputs": [
      {
       "html": [
        "<div style=\"max-height:1000px;max-width:1500px;overflow:auto;\">\n",
        "<table border=\"1\" class=\"dataframe\">\n",
        "  <thead>\n",
        "    <tr style=\"text-align: right;\">\n",
        "      <th></th>\n",
        "      <th>salary</th>\n",
        "      <th>montly_salary</th>\n",
        "    </tr>\n",
        "    <tr>\n",
        "      <th>department</th>\n",
        "      <th></th>\n",
        "      <th></th>\n",
        "    </tr>\n",
        "  </thead>\n",
        "  <tbody>\n",
        "    <tr>\n",
        "      <th>AVIATION</th>\n",
        "      <td> 70638.249130</td>\n",
        "      <td> 5886.520761</td>\n",
        "    </tr>\n",
        "    <tr>\n",
        "      <th>BUSINESS AFFAIRS</th>\n",
        "      <td> 71897.646409</td>\n",
        "      <td> 5991.470534</td>\n",
        "    </tr>\n",
        "    <tr>\n",
        "      <th>CITY COUNCIL</th>\n",
        "      <td> 58029.671852</td>\n",
        "      <td> 4835.805988</td>\n",
        "    </tr>\n",
        "    <tr>\n",
        "      <th>FAMILY &amp; SUPPORT</th>\n",
        "      <td> 38667.509216</td>\n",
        "      <td> 3222.292435</td>\n",
        "    </tr>\n",
        "    <tr>\n",
        "      <th>FIRE</th>\n",
        "      <td> 89579.082621</td>\n",
        "      <td> 7464.923552</td>\n",
        "    </tr>\n",
        "    <tr>\n",
        "      <th>GENERAL SERVICES</th>\n",
        "      <td> 80783.812004</td>\n",
        "      <td> 6731.984334</td>\n",
        "    </tr>\n",
        "    <tr>\n",
        "      <th>HEALTH</th>\n",
        "      <td> 77181.371379</td>\n",
        "      <td> 6431.780948</td>\n",
        "    </tr>\n",
        "    <tr>\n",
        "      <th>IPRA</th>\n",
        "      <td> 82425.035294</td>\n",
        "      <td> 6868.752941</td>\n",
        "    </tr>\n",
        "    <tr>\n",
        "      <th>LAW</th>\n",
        "      <td> 70853.156000</td>\n",
        "      <td> 5904.429667</td>\n",
        "    </tr>\n",
        "    <tr>\n",
        "      <th>MAYOR'S OFFICE</th>\n",
        "      <td> 86121.857143</td>\n",
        "      <td> 7176.821429</td>\n",
        "    </tr>\n",
        "    <tr>\n",
        "      <th>OEMC</th>\n",
        "      <td> 50573.057121</td>\n",
        "      <td> 4214.421427</td>\n",
        "    </tr>\n",
        "    <tr>\n",
        "      <th>POLICE</th>\n",
        "      <td> 75671.932497</td>\n",
        "      <td> 6305.994375</td>\n",
        "    </tr>\n",
        "    <tr>\n",
        "      <th>STREETS &amp; SAN</th>\n",
        "      <td> 69856.663188</td>\n",
        "      <td> 5821.388599</td>\n",
        "    </tr>\n",
        "    <tr>\n",
        "      <th>TRANSPORTN</th>\n",
        "      <td> 80453.301952</td>\n",
        "      <td> 6704.441829</td>\n",
        "    </tr>\n",
        "    <tr>\n",
        "      <th>WATER MGMNT</th>\n",
        "      <td> 81263.471190</td>\n",
        "      <td> 6771.955933</td>\n",
        "    </tr>\n",
        "  </tbody>\n",
        "</table>\n",
        "</div>"
       ],
       "metadata": {},
       "output_type": "pyout",
       "prompt_number": 51,
       "text": [
        "                        salary  montly_salary\n",
        "department                                   \n",
        "AVIATION          70638.249130    5886.520761\n",
        "BUSINESS AFFAIRS  71897.646409    5991.470534\n",
        "CITY COUNCIL      58029.671852    4835.805988\n",
        "FAMILY & SUPPORT  38667.509216    3222.292435\n",
        "FIRE              89579.082621    7464.923552\n",
        "GENERAL SERVICES  80783.812004    6731.984334\n",
        "HEALTH            77181.371379    6431.780948\n",
        "IPRA              82425.035294    6868.752941\n",
        "LAW               70853.156000    5904.429667\n",
        "MAYOR'S OFFICE    86121.857143    7176.821429\n",
        "OEMC              50573.057121    4214.421427\n",
        "POLICE            75671.932497    6305.994375\n",
        "STREETS & SAN     69856.663188    5821.388599\n",
        "TRANSPORTN        80453.301952    6704.441829\n",
        "WATER MGMNT       81263.471190    6771.955933"
       ]
      }
     ],
     "prompt_number": 51
    },
    {
     "cell_type": "code",
     "collapsed": false,
     "input": [
      "plt.figure(figsize=(10,5))\n",
      "\n",
      "by_dept.salary.mean().order(ascending=False).plot(kind='bar')"
     ],
     "language": "python",
     "metadata": {},
     "outputs": [
      {
       "metadata": {},
       "output_type": "pyout",
       "prompt_number": 52,
       "text": [
        "<matplotlib.axes.AxesSubplot at 0x10bc10320>"
       ]
      },
      {
       "metadata": {},
       "output_type": "display_data",
       "png": "[encoded data removed]",
       "text": [
        "<matplotlib.figure.Figure at 0x10bbe2898>"
       ]
      }
     ],
     "prompt_number": 52
    },
    {
     "cell_type": "code",
     "collapsed": false,
     "input": [
      "by_dept.salary.agg(['min', 'max', 'mean', 'median'])"
     ],
     "language": "python",
     "metadata": {},
     "outputs": [
      {
       "html": [
        "<div style=\"max-height:1000px;max-width:1500px;overflow:auto;\">\n",
        "<table border=\"1\" class=\"dataframe\">\n",
        "  <thead>\n",
        "    <tr style=\"text-align: right;\">\n",
        "      <th></th>\n",
        "      <th>min</th>\n",
        "      <th>max</th>\n",
        "      <th>mean</th>\n",
        "      <th>median</th>\n",
        "    </tr>\n",
        "    <tr>\n",
        "      <th>department</th>\n",
        "      <th></th>\n",
        "      <th></th>\n",
        "      <th></th>\n",
        "      <th></th>\n",
        "    </tr>\n",
        "  </thead>\n",
        "  <tbody>\n",
        "    <tr>\n",
        "      <th>AVIATION</th>\n",
        "      <td>  8580.0</td>\n",
        "      <td> 186576</td>\n",
        "      <td> 70638.249130</td>\n",
        "      <td> 70408</td>\n",
        "    </tr>\n",
        "    <tr>\n",
        "      <th>BUSINESS AFFAIRS</th>\n",
        "      <td> 14071.2</td>\n",
        "      <td> 157092</td>\n",
        "      <td> 71897.646409</td>\n",
        "      <td> 69648</td>\n",
        "    </tr>\n",
        "    <tr>\n",
        "      <th>CITY COUNCIL</th>\n",
        "      <td>  7488.0</td>\n",
        "      <td> 160248</td>\n",
        "      <td> 58029.671852</td>\n",
        "      <td> 52980</td>\n",
        "    </tr>\n",
        "    <tr>\n",
        "      <th>FAMILY &amp; SUPPORT</th>\n",
        "      <td>  2756.0</td>\n",
        "      <td> 157092</td>\n",
        "      <td> 38667.509216</td>\n",
        "      <td> 39912</td>\n",
        "    </tr>\n",
        "    <tr>\n",
        "      <th>FIRE</th>\n",
        "      <td> 45828.0</td>\n",
        "      <td> 202728</td>\n",
        "      <td> 89579.082621</td>\n",
        "      <td> 83982</td>\n",
        "    </tr>\n",
        "    <tr>\n",
        "      <th>GENERAL SERVICES</th>\n",
        "      <td> 16296.8</td>\n",
        "      <td> 157092</td>\n",
        "      <td> 80783.812004</td>\n",
        "      <td> 89440</td>\n",
        "    </tr>\n",
        "    <tr>\n",
        "      <th>HEALTH</th>\n",
        "      <td> 43320.0</td>\n",
        "      <td> 177156</td>\n",
        "      <td> 77181.371379</td>\n",
        "      <td> 73020</td>\n",
        "    </tr>\n",
        "    <tr>\n",
        "      <th>IPRA</th>\n",
        "      <td> 37704.0</td>\n",
        "      <td> 146940</td>\n",
        "      <td> 82425.035294</td>\n",
        "      <td> 82524</td>\n",
        "    </tr>\n",
        "    <tr>\n",
        "      <th>LAW</th>\n",
        "      <td> 14372.8</td>\n",
        "      <td> 173664</td>\n",
        "      <td> 70853.156000</td>\n",
        "      <td> 66492</td>\n",
        "    </tr>\n",
        "    <tr>\n",
        "      <th>MAYOR'S OFFICE</th>\n",
        "      <td> 36400.0</td>\n",
        "      <td> 216210</td>\n",
        "      <td> 86121.857143</td>\n",
        "      <td> 75552</td>\n",
        "    </tr>\n",
        "    <tr>\n",
        "      <th>OEMC</th>\n",
        "      <td> 19167.2</td>\n",
        "      <td> 167796</td>\n",
        "      <td> 50573.057121</td>\n",
        "      <td> 57048</td>\n",
        "    </tr>\n",
        "    <tr>\n",
        "      <th>POLICE</th>\n",
        "      <td>  9360.0</td>\n",
        "      <td> 260004</td>\n",
        "      <td> 75671.932497</td>\n",
        "      <td> 78012</td>\n",
        "    </tr>\n",
        "    <tr>\n",
        "      <th>STREETS &amp; SAN</th>\n",
        "      <td> 17602.0</td>\n",
        "      <td> 157092</td>\n",
        "      <td> 69856.663188</td>\n",
        "      <td> 69576</td>\n",
        "    </tr>\n",
        "    <tr>\n",
        "      <th>TRANSPORTN</th>\n",
        "      <td> 17134.0</td>\n",
        "      <td> 169500</td>\n",
        "      <td> 80453.301952</td>\n",
        "      <td> 76960</td>\n",
        "    </tr>\n",
        "    <tr>\n",
        "      <th>WATER MGMNT</th>\n",
        "      <td> 38460.0</td>\n",
        "      <td> 169512</td>\n",
        "      <td> 81263.471190</td>\n",
        "      <td> 78624</td>\n",
        "    </tr>\n",
        "  </tbody>\n",
        "</table>\n",
        "</div>"
       ],
       "metadata": {},
       "output_type": "pyout",
       "prompt_number": 53,
       "text": [
        "                      min     max          mean  median\n",
        "department                                             \n",
        "AVIATION           8580.0  186576  70638.249130   70408\n",
        "BUSINESS AFFAIRS  14071.2  157092  71897.646409   69648\n",
        "CITY COUNCIL       7488.0  160248  58029.671852   52980\n",
        "FAMILY & SUPPORT   2756.0  157092  38667.509216   39912\n",
        "FIRE              45828.0  202728  89579.082621   83982\n",
        "GENERAL SERVICES  16296.8  157092  80783.812004   89440\n",
        "HEALTH            43320.0  177156  77181.371379   73020\n",
        "IPRA              37704.0  146940  82425.035294   82524\n",
        "LAW               14372.8  173664  70853.156000   66492\n",
        "MAYOR'S OFFICE    36400.0  216210  86121.857143   75552\n",
        "OEMC              19167.2  167796  50573.057121   57048\n",
        "POLICE             9360.0  260004  75671.932497   78012\n",
        "STREETS & SAN     17602.0  157092  69856.663188   69576\n",
        "TRANSPORTN        17134.0  169500  80453.301952   76960\n",
        "WATER MGMNT       38460.0  169512  81263.471190   78624"
       ]
      }
     ],
     "prompt_number": 53
    },
    {
     "cell_type": "code",
     "collapsed": false,
     "input": [
      "%whos"
     ],
     "language": "python",
     "metadata": {},
     "outputs": [
      {
       "output_type": "stream",
       "stream": "stdout",
       "text": [
        "Variable    Type                Data/Info\n",
        "-----------------------------------------\n",
        "HTML        type                <class 'IPython.core.display.HTML'>\n",
        "Math        type                <class 'IPython.core.display.Math'>\n",
        "by_dept     DataFrameGroupBy    <pandas.core.groupby.Data<...>By object at 0x10bbe2518>\n",
        "cx          ndarray             100: 100 elems, type `float64`, 800 bytes\n",
        "cy          ndarray             100: 100 elems, type `float64`, 800 bytes\n",
        "data        DataFrame                                    <...>n[29364 rows x 5 columns]\n",
        "hdr_names   list                n=4\n",
        "nb_pts      int                 5000\n",
        "pd          module              <module 'pandas' from '/U<...>ages/pandas/__init__.py'>\n",
        "px          ndarray             5000: 5000 elems, type `float64`, 40000 bytes\n",
        "py          ndarray             5000: 5000 elems, type `float64`, 40000 bytes\n",
        "r           ndarray             5000: 5000 elems, type `float64`, 40000 bytes\n",
        "ratio       float               0.7882\n",
        "s1          Series              a        1\\nb        2\\nc    three\\ndtype: object\n",
        "s2          Series              b      10\\nc      _X\\na    1000\\ndtype: object\n",
        "url         str                 http://pandas.pydata.org/\n",
        "wh          ndarray             3941: 3941 elems, type `int64`, 31528 bytes\n",
        "x           Series              0   -1.000000\\n1   -0.777<...> 1.000000\\ndtype: float64\n",
        "y           Series              e    100\\nf    200\\nb    300\\ndtype: int64\n",
        "z           Series              a    NaN\\nb    301\\nc    <...>nf    NaN\\ndtype: float64\n"
       ]
      }
     ],
     "prompt_number": 54
    },
    {
     "cell_type": "code",
     "collapsed": false,
     "input": [
      "# save to csv\n",
      "by_dept.salary.agg(['min', 'max', 'mean', 'median']).to_csv('group_sal.csv')"
     ],
     "language": "python",
     "metadata": {},
     "outputs": [],
     "prompt_number": 55
    },
    {
     "cell_type": "code",
     "collapsed": false,
     "input": [
      "#!open group_sal.csv"
     ],
     "language": "python",
     "metadata": {},
     "outputs": [],
     "prompt_number": 56
    },
    {
     "cell_type": "markdown",
     "metadata": {},
     "source": [
      "## Where to go from here"
     ]
    },
    {
     "cell_type": "code",
     "collapsed": false,
     "input": [
      "url=\"http://ipython.org/notebook.html\"\n",
      "HTML('<iframe src=\"%s\" width=800 height=400></iframe>' % url)"
     ],
     "language": "python",
     "metadata": {},
     "outputs": [
      {
       "html": [
        "<iframe src=\"http://ipython.org/notebook.html\" width=800 height=400></iframe>"
       ],
       "metadata": {},
       "output_type": "pyout",
       "prompt_number": 57,
       "text": [
        "<IPython.core.display.HTML at 0x109eaf278>"
       ]
      }
     ],
     "prompt_number": 57
    },
    {
     "cell_type": "code",
     "collapsed": false,
     "input": [
      "url=\"http://continuum.io/downloads\"\n",
      "HTML('<iframe src=\"%s\" width=800 height=400></iframe>' % url)"
     ],
     "language": "python",
     "metadata": {},
     "outputs": [
      {
       "html": [
        "<iframe src=\"http://continuum.io/downloads\" width=800 height=400></iframe>"
       ],
       "metadata": {},
       "output_type": "pyout",
       "prompt_number": 58,
       "text": [
        "<IPython.core.display.HTML at 0x10bbf7940>"
       ]
      }
     ],
     "prompt_number": 58
    },
    {
     "cell_type": "markdown",
     "metadata": {},
     "source": [
      "## Terminology\n",
      "\n",
      "\n",
      "\n",
      "\n",
      "Core functionality\n",
      "\n",
      "* [IPython](http://ipython.org/) - Enhanced interactive shell and notebook\n",
      "* [NumPy](http://www.numpy.org/) - Fundamental package for scientific computing (N-dimensional array object, integration with C/C++/Fortran code, linear algebra, random numbers, FFT, ... )\n",
      "* [Matplotlib](http://matplotlib.org/) - Fundamental 2D plotting library\n",
      "\n",
      "(`pylab` is a helper package created to facilitate interactive work inside `ipython`).\n",
      "\n",
      "Main packages/libraries\n",
      "\n",
      "* [SciPy library](http://docs.scipy.org/doc/scipy/reference/) - Collection of libraries for scientific computing (Integration, Interpolation, Optimization, Special functions, ...)\n",
      "* [Pandas](http://pandas.pydata.org/) - Series, DataFrame and tons of other goodies\n",
      "* [SymPy](http://sympy.org/) - Symbolic mathematics\n",
      "* [Statsmodels](http://statsmodels.sourceforge.net/) - Statistics in Python\n",
      "* [scikit-learn](http://scikit-learn.org/) - Machine Learning\n",
      "* [scikit-image](http://scikit-image.org/) - Image processing\n"
     ]
    },
    {
     "cell_type": "code",
     "collapsed": false,
     "input": [
      "def version():\n",
      "    import sys, IPython, numpy, matplotlib, pandas\n",
      "    \n",
      "    py = 'Python: %d.%d.%d' % (sys.version_info.major, sys.version_info.minor, sys.version_info.micro)\n",
      "    ipy = 'Ipython: ' + str(IPython.__version__)\n",
      "    np = 'NumPy: ' + str(numpy.version.version)\n",
      "    mpl = 'MPL: ' + str(matplotlib.__version__)\n",
      "    pd = 'Pandas: ' + str(pandas.__version__)\n",
      "    print('\\n'.join([py, ipy, np, mpl, pd]))\n",
      "\n",
      "version()"
     ],
     "language": "python",
     "metadata": {},
     "outputs": [
      {
       "output_type": "stream",
       "stream": "stdout",
       "text": [
        "Python: 3.4.1\n",
        "Ipython: 2.1.0\n",
        "NumPy: 1.8.1\n",
        "MPL: 1.3.1\n",
        "Pandas: 0.14.1\n"
       ]
      }
     ],
     "prompt_number": 59
    }
   ],
   "metadata": {}
  }
 ]
}